{
 "cells": [
  {
   "cell_type": "markdown",
   "metadata": {
    "collapsed": true
   },
   "source": [
    "### Project 1\n",
    "\n",
    "Project description: \n",
    "- Read data into Jupyter notebook, use pandas to import data into a data frame\n",
    "- preprocess data: explore data, address missing data, categorical data, if there is any, and data scaling. Justify the type of scaling used in this project. \n",
    "- train your dataset using all the linear regression models you've learned so far. If your model has a scaling parameter(s) use Grid Search to find the best scaling parameter. Use plots and graphs to help you get a better glimpse of the results. \n",
    "- Then use cross validation to find average training and testing score. \n",
    "- Your submission should have at least the following regression models: KNN repressor, linear regression, Ridge, Lasso, polynomial regression, SVM both simple and with kernels. \n",
    "- Finally find the best repressor for this dataset and train your model on the entire dataset using the best parameters and predict the market price for the test_set.\n",
    "- submit IPython notebook. Use markdown to provide an inline report for this project."
   ]
  },
  {
   "cell_type": "markdown",
   "metadata": {},
   "source": [
    "### Group No - 13\n",
    "\n",
    "Team members \n",
    "1. Nishad Deosthali\n",
    "2. Jo Yen"
   ]
  },
  {
   "cell_type": "code",
   "execution_count": 1,
   "metadata": {
    "collapsed": true
   },
   "outputs": [],
   "source": [
    "#Loading required libraries\n",
    "import numpy as np\n",
    "import pandas as pd\n",
    "%matplotlib inline\n",
    "import matplotlib.pyplot as plt\n",
    "import seaborn as sns\n",
    "plt.style.use('seaborn') #set same style for all plots\n",
    "pd.options.mode.chained_assignment = None  # suppress chained assignment warning"
   ]
  },
  {
   "cell_type": "code",
   "execution_count": 2,
   "metadata": {
    "collapsed": true
   },
   "outputs": [],
   "source": [
    "#Data import\n",
    "bitcoin_train = pd.read_csv('C:/coursework/AppliedML/dataset/bitcoin_dataset.csv', parse_dates=['Date'], index_col= 0)\n",
    "bitcoin_test = pd.read_csv('C:/coursework/AppliedML/dataset/test_set.csv', parse_dates = ['Date'], index_col = 0)"
   ]
  },
  {
   "cell_type": "code",
   "execution_count": 3,
   "metadata": {},
   "outputs": [
    {
     "data": {
      "text/html": [
       "<div>\n",
       "<style>\n",
       "    .dataframe thead tr:only-child th {\n",
       "        text-align: right;\n",
       "    }\n",
       "\n",
       "    .dataframe thead th {\n",
       "        text-align: left;\n",
       "    }\n",
       "\n",
       "    .dataframe tbody tr th {\n",
       "        vertical-align: top;\n",
       "    }\n",
       "</style>\n",
       "<table border=\"1\" class=\"dataframe\">\n",
       "  <thead>\n",
       "    <tr style=\"text-align: right;\">\n",
       "      <th></th>\n",
       "      <th>btc_market_price</th>\n",
       "      <th>btc_total_bitcoins</th>\n",
       "      <th>btc_market_cap</th>\n",
       "      <th>btc_trade_volume</th>\n",
       "      <th>btc_blocks_size</th>\n",
       "      <th>btc_avg_block_size</th>\n",
       "      <th>btc_n_orphaned_blocks</th>\n",
       "      <th>btc_n_transactions_per_block</th>\n",
       "      <th>btc_median_confirmation_time</th>\n",
       "      <th>btc_hash_rate</th>\n",
       "      <th>...</th>\n",
       "      <th>btc_cost_per_transaction_percent</th>\n",
       "      <th>btc_cost_per_transaction</th>\n",
       "      <th>btc_n_unique_addresses</th>\n",
       "      <th>btc_n_transactions</th>\n",
       "      <th>btc_n_transactions_total</th>\n",
       "      <th>btc_n_transactions_excluding_popular</th>\n",
       "      <th>btc_n_transactions_excluding_chains_longer_than_100</th>\n",
       "      <th>btc_output_volume</th>\n",
       "      <th>btc_estimated_transaction_volume</th>\n",
       "      <th>btc_estimated_transaction_volume_usd</th>\n",
       "    </tr>\n",
       "  </thead>\n",
       "  <tbody>\n",
       "    <tr>\n",
       "      <th>count</th>\n",
       "      <td>2906.000000</td>\n",
       "      <td>2.879000e+03</td>\n",
       "      <td>2.906000e+03</td>\n",
       "      <td>2.885000e+03</td>\n",
       "      <td>2877.000000</td>\n",
       "      <td>2906.000000</td>\n",
       "      <td>2906.000000</td>\n",
       "      <td>2906.000000</td>\n",
       "      <td>2894.000000</td>\n",
       "      <td>2.906000e+03</td>\n",
       "      <td>...</td>\n",
       "      <td>2906.000000</td>\n",
       "      <td>2906.000000</td>\n",
       "      <td>2.906000e+03</td>\n",
       "      <td>2906.000000</td>\n",
       "      <td>2.906000e+03</td>\n",
       "      <td>2906.000000</td>\n",
       "      <td>2906.000000</td>\n",
       "      <td>2.906000e+03</td>\n",
       "      <td>2.906000e+03</td>\n",
       "      <td>2.906000e+03</td>\n",
       "    </tr>\n",
       "    <tr>\n",
       "      <th>mean</th>\n",
       "      <td>839.104218</td>\n",
       "      <td>1.151138e+07</td>\n",
       "      <td>1.344255e+10</td>\n",
       "      <td>7.398381e+07</td>\n",
       "      <td>35505.502848</td>\n",
       "      <td>0.350366</td>\n",
       "      <td>0.364074</td>\n",
       "      <td>671.673651</td>\n",
       "      <td>7.501113</td>\n",
       "      <td>1.244070e+06</td>\n",
       "      <td>...</td>\n",
       "      <td>66.747821</td>\n",
       "      <td>14.639125</td>\n",
       "      <td>1.937861e+05</td>\n",
       "      <td>102081.138334</td>\n",
       "      <td>6.844558e+07</td>\n",
       "      <td>94348.852374</td>\n",
       "      <td>63140.320028</td>\n",
       "      <td>1.566216e+06</td>\n",
       "      <td>2.036475e+05</td>\n",
       "      <td>2.024338e+08</td>\n",
       "    </tr>\n",
       "    <tr>\n",
       "      <th>std</th>\n",
       "      <td>2304.972497</td>\n",
       "      <td>4.200024e+06</td>\n",
       "      <td>3.866150e+10</td>\n",
       "      <td>2.924228e+08</td>\n",
       "      <td>43618.633821</td>\n",
       "      <td>0.353168</td>\n",
       "      <td>0.842259</td>\n",
       "      <td>689.561322</td>\n",
       "      <td>4.974549</td>\n",
       "      <td>2.924141e+06</td>\n",
       "      <td>...</td>\n",
       "      <td>1761.894646</td>\n",
       "      <td>20.536083</td>\n",
       "      <td>2.089146e+05</td>\n",
       "      <td>103896.929350</td>\n",
       "      <td>8.285341e+07</td>\n",
       "      <td>103966.111763</td>\n",
       "      <td>69687.052174</td>\n",
       "      <td>2.278910e+06</td>\n",
       "      <td>2.682781e+05</td>\n",
       "      <td>5.800513e+08</td>\n",
       "    </tr>\n",
       "    <tr>\n",
       "      <th>min</th>\n",
       "      <td>0.000000</td>\n",
       "      <td>2.043200e+06</td>\n",
       "      <td>0.000000e+00</td>\n",
       "      <td>0.000000e+00</td>\n",
       "      <td>0.000000</td>\n",
       "      <td>0.000216</td>\n",
       "      <td>0.000000</td>\n",
       "      <td>1.000000</td>\n",
       "      <td>0.000000</td>\n",
       "      <td>2.250000e-05</td>\n",
       "      <td>...</td>\n",
       "      <td>0.136531</td>\n",
       "      <td>0.000000</td>\n",
       "      <td>1.100000e+02</td>\n",
       "      <td>118.000000</td>\n",
       "      <td>4.124000e+04</td>\n",
       "      <td>118.000000</td>\n",
       "      <td>118.000000</td>\n",
       "      <td>6.150000e+03</td>\n",
       "      <td>7.000000e+00</td>\n",
       "      <td>0.000000e+00</td>\n",
       "    </tr>\n",
       "    <tr>\n",
       "      <th>25%</th>\n",
       "      <td>6.653465</td>\n",
       "      <td>8.485300e+06</td>\n",
       "      <td>5.363081e+07</td>\n",
       "      <td>2.916456e+05</td>\n",
       "      <td>781.000000</td>\n",
       "      <td>0.024177</td>\n",
       "      <td>0.000000</td>\n",
       "      <td>54.000000</td>\n",
       "      <td>6.066667</td>\n",
       "      <td>1.160880e+01</td>\n",
       "      <td>...</td>\n",
       "      <td>1.181945</td>\n",
       "      <td>4.156470</td>\n",
       "      <td>1.675475e+04</td>\n",
       "      <td>8025.250000</td>\n",
       "      <td>2.413376e+06</td>\n",
       "      <td>6813.500000</td>\n",
       "      <td>6765.500000</td>\n",
       "      <td>4.901712e+05</td>\n",
       "      <td>9.600325e+04</td>\n",
       "      <td>9.581680e+05</td>\n",
       "    </tr>\n",
       "    <tr>\n",
       "      <th>50%</th>\n",
       "      <td>235.130000</td>\n",
       "      <td>1.243115e+07</td>\n",
       "      <td>3.346869e+09</td>\n",
       "      <td>1.001414e+07</td>\n",
       "      <td>15183.000000</td>\n",
       "      <td>0.196022</td>\n",
       "      <td>0.000000</td>\n",
       "      <td>375.000000</td>\n",
       "      <td>7.916667</td>\n",
       "      <td>2.176189e+04</td>\n",
       "      <td>...</td>\n",
       "      <td>2.493564</td>\n",
       "      <td>7.822430</td>\n",
       "      <td>1.304450e+05</td>\n",
       "      <td>62337.000000</td>\n",
       "      <td>3.255271e+07</td>\n",
       "      <td>53483.000000</td>\n",
       "      <td>35283.500000</td>\n",
       "      <td>1.105205e+06</td>\n",
       "      <td>1.784685e+05</td>\n",
       "      <td>3.742576e+07</td>\n",
       "    </tr>\n",
       "    <tr>\n",
       "      <th>75%</th>\n",
       "      <td>594.191164</td>\n",
       "      <td>1.520051e+07</td>\n",
       "      <td>8.075525e+09</td>\n",
       "      <td>2.834038e+07</td>\n",
       "      <td>58293.000000</td>\n",
       "      <td>0.676065</td>\n",
       "      <td>0.000000</td>\n",
       "      <td>1232.995223</td>\n",
       "      <td>10.208333</td>\n",
       "      <td>1.035363e+06</td>\n",
       "      <td>...</td>\n",
       "      <td>5.915591</td>\n",
       "      <td>14.800589</td>\n",
       "      <td>3.603765e+05</td>\n",
       "      <td>190471.250000</td>\n",
       "      <td>1.080663e+08</td>\n",
       "      <td>185901.750000</td>\n",
       "      <td>113793.250000</td>\n",
       "      <td>2.031654e+06</td>\n",
       "      <td>2.588046e+05</td>\n",
       "      <td>1.312499e+08</td>\n",
       "    </tr>\n",
       "    <tr>\n",
       "      <th>max</th>\n",
       "      <td>19498.683330</td>\n",
       "      <td>1.683769e+07</td>\n",
       "      <td>3.265250e+11</td>\n",
       "      <td>5.352016e+09</td>\n",
       "      <td>154444.590300</td>\n",
       "      <td>1.110327</td>\n",
       "      <td>7.000000</td>\n",
       "      <td>2722.625000</td>\n",
       "      <td>47.733333</td>\n",
       "      <td>2.160975e+07</td>\n",
       "      <td>...</td>\n",
       "      <td>88571.428570</td>\n",
       "      <td>161.686071</td>\n",
       "      <td>1.072861e+06</td>\n",
       "      <td>490644.000000</td>\n",
       "      <td>2.966888e+08</td>\n",
       "      <td>470650.000000</td>\n",
       "      <td>318896.000000</td>\n",
       "      <td>4.599222e+07</td>\n",
       "      <td>5.825066e+06</td>\n",
       "      <td>5.760245e+09</td>\n",
       "    </tr>\n",
       "  </tbody>\n",
       "</table>\n",
       "<p>8 rows × 23 columns</p>\n",
       "</div>"
      ],
      "text/plain": [
       "       btc_market_price  btc_total_bitcoins  btc_market_cap  btc_trade_volume  \\\n",
       "count       2906.000000        2.879000e+03    2.906000e+03      2.885000e+03   \n",
       "mean         839.104218        1.151138e+07    1.344255e+10      7.398381e+07   \n",
       "std         2304.972497        4.200024e+06    3.866150e+10      2.924228e+08   \n",
       "min            0.000000        2.043200e+06    0.000000e+00      0.000000e+00   \n",
       "25%            6.653465        8.485300e+06    5.363081e+07      2.916456e+05   \n",
       "50%          235.130000        1.243115e+07    3.346869e+09      1.001414e+07   \n",
       "75%          594.191164        1.520051e+07    8.075525e+09      2.834038e+07   \n",
       "max        19498.683330        1.683769e+07    3.265250e+11      5.352016e+09   \n",
       "\n",
       "       btc_blocks_size  btc_avg_block_size  btc_n_orphaned_blocks  \\\n",
       "count      2877.000000         2906.000000            2906.000000   \n",
       "mean      35505.502848            0.350366               0.364074   \n",
       "std       43618.633821            0.353168               0.842259   \n",
       "min           0.000000            0.000216               0.000000   \n",
       "25%         781.000000            0.024177               0.000000   \n",
       "50%       15183.000000            0.196022               0.000000   \n",
       "75%       58293.000000            0.676065               0.000000   \n",
       "max      154444.590300            1.110327               7.000000   \n",
       "\n",
       "       btc_n_transactions_per_block  btc_median_confirmation_time  \\\n",
       "count                   2906.000000                   2894.000000   \n",
       "mean                     671.673651                      7.501113   \n",
       "std                      689.561322                      4.974549   \n",
       "min                        1.000000                      0.000000   \n",
       "25%                       54.000000                      6.066667   \n",
       "50%                      375.000000                      7.916667   \n",
       "75%                     1232.995223                     10.208333   \n",
       "max                     2722.625000                     47.733333   \n",
       "\n",
       "       btc_hash_rate                  ...                   \\\n",
       "count   2.906000e+03                  ...                    \n",
       "mean    1.244070e+06                  ...                    \n",
       "std     2.924141e+06                  ...                    \n",
       "min     2.250000e-05                  ...                    \n",
       "25%     1.160880e+01                  ...                    \n",
       "50%     2.176189e+04                  ...                    \n",
       "75%     1.035363e+06                  ...                    \n",
       "max     2.160975e+07                  ...                    \n",
       "\n",
       "       btc_cost_per_transaction_percent  btc_cost_per_transaction  \\\n",
       "count                       2906.000000               2906.000000   \n",
       "mean                          66.747821                 14.639125   \n",
       "std                         1761.894646                 20.536083   \n",
       "min                            0.136531                  0.000000   \n",
       "25%                            1.181945                  4.156470   \n",
       "50%                            2.493564                  7.822430   \n",
       "75%                            5.915591                 14.800589   \n",
       "max                        88571.428570                161.686071   \n",
       "\n",
       "       btc_n_unique_addresses  btc_n_transactions  btc_n_transactions_total  \\\n",
       "count            2.906000e+03         2906.000000              2.906000e+03   \n",
       "mean             1.937861e+05       102081.138334              6.844558e+07   \n",
       "std              2.089146e+05       103896.929350              8.285341e+07   \n",
       "min              1.100000e+02          118.000000              4.124000e+04   \n",
       "25%              1.675475e+04         8025.250000              2.413376e+06   \n",
       "50%              1.304450e+05        62337.000000              3.255271e+07   \n",
       "75%              3.603765e+05       190471.250000              1.080663e+08   \n",
       "max              1.072861e+06       490644.000000              2.966888e+08   \n",
       "\n",
       "       btc_n_transactions_excluding_popular  \\\n",
       "count                           2906.000000   \n",
       "mean                           94348.852374   \n",
       "std                           103966.111763   \n",
       "min                              118.000000   \n",
       "25%                             6813.500000   \n",
       "50%                            53483.000000   \n",
       "75%                           185901.750000   \n",
       "max                           470650.000000   \n",
       "\n",
       "       btc_n_transactions_excluding_chains_longer_than_100  btc_output_volume  \\\n",
       "count                                        2906.000000         2.906000e+03   \n",
       "mean                                        63140.320028         1.566216e+06   \n",
       "std                                         69687.052174         2.278910e+06   \n",
       "min                                           118.000000         6.150000e+03   \n",
       "25%                                          6765.500000         4.901712e+05   \n",
       "50%                                         35283.500000         1.105205e+06   \n",
       "75%                                        113793.250000         2.031654e+06   \n",
       "max                                        318896.000000         4.599222e+07   \n",
       "\n",
       "       btc_estimated_transaction_volume  btc_estimated_transaction_volume_usd  \n",
       "count                      2.906000e+03                          2.906000e+03  \n",
       "mean                       2.036475e+05                          2.024338e+08  \n",
       "std                        2.682781e+05                          5.800513e+08  \n",
       "min                        7.000000e+00                          0.000000e+00  \n",
       "25%                        9.600325e+04                          9.581680e+05  \n",
       "50%                        1.784685e+05                          3.742576e+07  \n",
       "75%                        2.588046e+05                          1.312499e+08  \n",
       "max                        5.825066e+06                          5.760245e+09  \n",
       "\n",
       "[8 rows x 23 columns]"
      ]
     },
     "execution_count": 3,
     "metadata": {},
     "output_type": "execute_result"
    }
   ],
   "source": [
    "bitcoin_train.describe()"
   ]
  },
  {
   "cell_type": "markdown",
   "metadata": {},
   "source": [
    "### Data preparation\n",
    "Before model following data preparation steps are completed\n",
    "1. Removing initial rows with market price = 0, as these have no meaning in overall prediction\n",
    "2. Log tranformation of market_price\n",
    "3. Subsetting columns to drop highly correlated variables (based on EDA)\n",
    "4. Filling NAs with interpolate function\n",
    "4. Separating/defining train, test and production datasets\n",
    "3. Data normalization using scaling\n",
    "\n",
    "#### Data Terminology\n",
    "Test dataset - Validation dataset created from available training dataset\n",
    "\n",
    "Production dataset - The february dataset for which we need to predict values"
   ]
  },
  {
   "cell_type": "code",
   "execution_count": 4,
   "metadata": {},
   "outputs": [
    {
     "data": {
      "image/png": "[encoded data removed]",
      "text/plain": [
       "<matplotlib.figure.Figure at 0x20791406c88>"
      ]
     },
     "metadata": {},
     "output_type": "display_data"
    }
   ],
   "source": [
    "bitcoin_train.btc_market_price.plot()\n",
    "plt.title('Bitcoin Market Price by Date')\n",
    "plt.show()"
   ]
  },
  {
   "cell_type": "code",
   "execution_count": 5,
   "metadata": {},
   "outputs": [
    {
     "data": {
      "image/png": "[encoded data removed]",
      "text/plain": [
       "<matplotlib.figure.Figure at 0x2079156c4a8>"
      ]
     },
     "metadata": {},
     "output_type": "display_data"
    }
   ],
   "source": [
    "sns.distplot(bitcoin_train['btc_market_price'])\n",
    "plt.title('Distribution of Market Price')\n",
    "plt.show()"
   ]
  },
  {
   "cell_type": "markdown",
   "metadata": {},
   "source": [
    "The Bitcoin Market Price is skewed to the right, indicating log transformations"
   ]
  },
  {
   "cell_type": "markdown",
   "metadata": {},
   "source": [
    " "
   ]
  },
  {
   "cell_type": "code",
   "execution_count": 6,
   "metadata": {
    "collapsed": true
   },
   "outputs": [],
   "source": [
    "#Dropping rows with zero values\n",
    "bitcoin_train = bitcoin_train[bitcoin_train.btc_market_price>0]\n",
    "#taking log transformation of market price to treat skeweness\n",
    "bitcoin_train.btc_market_price = np.log(bitcoin_train.btc_market_price)"
   ]
  },
  {
   "cell_type": "code",
   "execution_count": 7,
   "metadata": {},
   "outputs": [
    {
     "data": {
      "image/png": "[encoded data removed]",
      "text/plain": [
       "<matplotlib.figure.Figure at 0x207916baef0>"
      ]
     },
     "metadata": {},
     "output_type": "display_data"
    }
   ],
   "source": [
    "sns.distplot(bitcoin_train['btc_market_price'])\n",
    "plt.title('Distribution of Log Market Price')\n",
    "plt.show()"
   ]
  },
  {
   "cell_type": "code",
   "execution_count": 8,
   "metadata": {},
   "outputs": [
    {
     "data": {
      "image/png": "[encoded data removed]",
      "text/plain": [
       "<matplotlib.figure.Figure at 0x207915e41d0>"
      ]
     },
     "metadata": {},
     "output_type": "display_data"
    }
   ],
   "source": [
    "#Correlation Matrix\n",
    "correlation_mat = bitcoin_train.corr()\n",
    "plt.figure(figsize= (6,6))\n",
    "sns.heatmap(correlation_mat, cmap=\"YlGnBu\")\n",
    "plt.title(\"Correlation matrix - Train\");"
   ]
  },
  {
   "cell_type": "markdown",
   "metadata": {},
   "source": [
    "According to the correlation matrix, there are groups of variables that tell the same information, therefore their correlation is very high. We have groups of variables concearning the Bitcoin Market, bitcoin blocks, costs and transaction volumes. \n",
    "\n",
    "From these blocks we choose only one variable, reducing the number of features for the final analysis  "
   ]
  },
  {
   "cell_type": "code",
   "execution_count": 9,
   "metadata": {
    "scrolled": true
   },
   "outputs": [
    {
     "name": "stdout",
     "output_type": "stream",
     "text": [
      "Total 12 columns are retained\n"
     ]
    }
   ],
   "source": [
    "#Saving values to predict in separate dataset\n",
    "y = bitcoin_train.btc_market_price.values.ravel()\n",
    "\n",
    "#Retaining varibales based on correalation matrix from training data set\n",
    "keep_cols = ['btc_trade_volume', 'btc_avg_block_size','btc_n_orphaned_blocks', \n",
    "    'btc_median_confirmation_time', 'btc_hash_rate','btc_transaction_fees',\n",
    "    'btc_cost_per_transaction_percent', 'btc_cost_per_transaction',\n",
    "    'btc_n_transactions','btc_output_volume', 'btc_estimated_transaction_volume',\n",
    "    'btc_estimated_transaction_volume_usd']\n",
    "\n",
    "print('Total {} columns are retained'.format(len(keep_cols)))\n",
    "bitcoin_train = bitcoin_train[keep_cols]\n",
    "bitcoin_test = bitcoin_test[keep_cols]"
   ]
  },
  {
   "cell_type": "markdown",
   "metadata": {},
   "source": [
    "We are retaining 12 variables, which are non correlated avoiding colinearity on the regressions"
   ]
  },
  {
   "cell_type": "code",
   "execution_count": 10,
   "metadata": {},
   "outputs": [
    {
     "data": {
      "image/png": "[encoded data removed]",
      "text/plain": [
       "<matplotlib.figure.Figure at 0x2079167eb70>"
      ]
     },
     "metadata": {},
     "output_type": "display_data"
    },
    {
     "data": {
      "image/png": "[encoded data removed]",
      "text/plain": [
       "<matplotlib.figure.Figure at 0x20793aee2e8>"
      ]
     },
     "metadata": {},
     "output_type": "display_data"
    }
   ],
   "source": [
    "#Assessing linear and polinomial relationship between log market price and features\n",
    "fig = plt.figure(figsize = (12,6))\n",
    "ax1 = fig.add_subplot(121)\n",
    "p1 = sns.regplot(x='btc_trade_volume' , y=y, data=bitcoin_train, order = 2, ax=ax1)\n",
    "p1.set_title('Scatterplot of Log Market Price and Trade Volume')\n",
    "p1.set_ylabel('Log Bitcoin Market Price')\n",
    "p1.set_xlabel('Trade Volume')\n",
    "p1.set_ylim(-20, 20)\n",
    "p1 = sns.regplot(x='btc_trade_volume' , y=y, data=bitcoin_train, scatter = False, ax=ax1)\n",
    "\n",
    "ax2 = fig.add_subplot(122)\n",
    "p2 = sns.regplot(x='btc_median_confirmation_time' , y=y, data=bitcoin_train, order = 2, ax = ax2)\n",
    "p2.set_title('Scatterplot of Log Market Price and Median Conf Time')\n",
    "p2.set_xlabel('Median Conf Time')\n",
    "p2.set_ylim(-20, 20)\n",
    "p2 = sns.regplot(x='btc_median_confirmation_time' , y=y, data=bitcoin_train, scatter = False, ax = ax2)\n",
    "\n",
    "fig = plt.figure(figsize = (12,6))\n",
    "ax1 = fig.add_subplot(121)\n",
    "p1 = sns.regplot(x='btc_cost_per_transaction_percent' , y=y, data=bitcoin_train, order = 2, ax=ax1)\n",
    "p1.set_title('Scatterplot of Log Market Price and Cost per Trans%')\n",
    "p1.set_ylabel('Log Bitcoin Market Price')\n",
    "p1.set_xlabel('Cost per Trans%')\n",
    "p1.set_ylim(-20, 20)\n",
    "p1 = sns.regplot(x='btc_cost_per_transaction_percent' , y=y, data=bitcoin_train, scatter = False, ax=ax1)\n",
    "\n",
    "ax2 = fig.add_subplot(122)\n",
    "p2 = sns.regplot(x='btc_output_volume' , y=y, data=bitcoin_train, order = 2, ax = ax2)\n",
    "p2.set_title('Scatterplot of Log Market Price and Output Volume')\n",
    "p2.set_xlabel('Output Volume')\n",
    "p2.set_ylim(-20, 20)\n",
    "p2 = sns.regplot(x='btc_output_volume' , y=y, data=bitcoin_train, scatter = False, ax = ax2)\n"
   ]
  },
  {
   "cell_type": "markdown",
   "metadata": {},
   "source": [
    "We plotted a few of the variables to assess the distributions. From EDA, we see that quadratic relationships will probably have better prediction performances "
   ]
  },
  {
   "cell_type": "code",
   "execution_count": 11,
   "metadata": {},
   "outputs": [
    {
     "data": {
      "text/plain": [
       "btc_trade_volume                        21\n",
       "btc_avg_block_size                       0\n",
       "btc_n_orphaned_blocks                    0\n",
       "btc_median_confirmation_time            12\n",
       "btc_hash_rate                            0\n",
       "btc_transaction_fees                    10\n",
       "btc_cost_per_transaction_percent         0\n",
       "btc_cost_per_transaction                 0\n",
       "btc_n_transactions                       0\n",
       "btc_output_volume                        0\n",
       "btc_estimated_transaction_volume         0\n",
       "btc_estimated_transaction_volume_usd     0\n",
       "dtype: int64"
      ]
     },
     "execution_count": 11,
     "metadata": {},
     "output_type": "execute_result"
    }
   ],
   "source": [
    "#Checking number of missing values\n",
    "bitcoin_train.isnull().sum()"
   ]
  },
  {
   "cell_type": "code",
   "execution_count": 12,
   "metadata": {},
   "outputs": [
    {
     "data": {
      "text/plain": [
       "btc_trade_volume                        0\n",
       "btc_avg_block_size                      0\n",
       "btc_n_orphaned_blocks                   0\n",
       "btc_median_confirmation_time            0\n",
       "btc_hash_rate                           0\n",
       "btc_transaction_fees                    0\n",
       "btc_cost_per_transaction_percent        0\n",
       "btc_cost_per_transaction                0\n",
       "btc_n_transactions                      0\n",
       "btc_output_volume                       0\n",
       "btc_estimated_transaction_volume        0\n",
       "btc_estimated_transaction_volume_usd    0\n",
       "dtype: int64"
      ]
     },
     "execution_count": 12,
     "metadata": {},
     "output_type": "execute_result"
    }
   ],
   "source": [
    "# Filling NAs in train dataset with interpolate\n",
    "bitcoin_train.interpolate(method='linear', inplace=True)\n",
    "bitcoin_train.isnull().sum()"
   ]
  },
  {
   "cell_type": "markdown",
   "metadata": {},
   "source": [
    "The interpolate function uses previous and leading values to fill the missing values.\n",
    "\n",
    "The package of options like 'Linear', 'nearest', 'splice' to create inplace predictions for missing values based on time index"
   ]
  },
  {
   "cell_type": "code",
   "execution_count": 13,
   "metadata": {
    "scrolled": true
   },
   "outputs": [
    {
     "data": {
      "text/plain": [
       "btc_trade_volume                        0\n",
       "btc_avg_block_size                      0\n",
       "btc_n_orphaned_blocks                   0\n",
       "btc_median_confirmation_time            0\n",
       "btc_hash_rate                           0\n",
       "btc_transaction_fees                    0\n",
       "btc_cost_per_transaction_percent        0\n",
       "btc_cost_per_transaction                0\n",
       "btc_n_transactions                      0\n",
       "btc_output_volume                       0\n",
       "btc_estimated_transaction_volume        0\n",
       "btc_estimated_transaction_volume_usd    0\n",
       "dtype: int64"
      ]
     },
     "execution_count": 13,
     "metadata": {},
     "output_type": "execute_result"
    }
   ],
   "source": [
    "# Production dataset has no null values\n",
    "bitcoin_test.isnull().sum()"
   ]
  },
  {
   "cell_type": "markdown",
   "metadata": {},
   "source": [
    "Since there are no na's remaining we will go ahead with data split and tranformations"
   ]
  },
  {
   "cell_type": "code",
   "execution_count": 14,
   "metadata": {},
   "outputs": [
    {
     "name": "stdout",
     "output_type": "stream",
     "text": [
      "Shape of train (1907, 12), shape of test (818, 12), shape of production (14, 12)\n"
     ]
    }
   ],
   "source": [
    "#Splitting train and test datasets \n",
    "X = bitcoin_train\n",
    "X_prod = bitcoin_test\n",
    "\n",
    "from sklearn.model_selection import train_test_split\n",
    "X_train, X_test, y_train, y_test = train_test_split(X, y, test_size = 0.3, random_state = 100)\n",
    "\n",
    "print('Shape of train {}, shape of test {}, shape of production {}'.format(X_train.shape, X_test.shape, X_prod.shape))"
   ]
  },
  {
   "cell_type": "markdown",
   "metadata": {},
   "source": [
    "#### Data Scaling\n",
    "\n",
    "We selected MinMax scaling for following reason,\n",
    "\n",
    "We are going to use algorithms like Support Vecor Machines relies on scalar distance between points. So, it is necessary that all the variables are in same range otherwise incorrect weights will be assigned to different columns incorrectly"
   ]
  },
  {
   "cell_type": "code",
   "execution_count": 15,
   "metadata": {
    "collapsed": true
   },
   "outputs": [],
   "source": [
    "#Checking results of 2 scalars\n",
    "\n",
    "from sklearn.preprocessing import MinMaxScaler\n",
    "\n",
    "#MinMax\n",
    "MinMax = MinMaxScaler(feature_range= (0,1))\n",
    "X_train = MinMax.fit_transform(X_train)\n",
    "X_test = MinMax.transform(X_test)\n",
    "X_prod = MinMax.transform(X_prod)"
   ]
  },
  {
   "cell_type": "code",
   "execution_count": 16,
   "metadata": {},
   "outputs": [
    {
     "data": {
      "text/html": [
       "<div>\n",
       "<style>\n",
       "    .dataframe thead tr:only-child th {\n",
       "        text-align: right;\n",
       "    }\n",
       "\n",
       "    .dataframe thead th {\n",
       "        text-align: left;\n",
       "    }\n",
       "\n",
       "    .dataframe tbody tr th {\n",
       "        vertical-align: top;\n",
       "    }\n",
       "</style>\n",
       "<table border=\"1\" class=\"dataframe\">\n",
       "  <thead>\n",
       "    <tr style=\"text-align: right;\">\n",
       "      <th></th>\n",
       "      <th>0</th>\n",
       "      <th>1</th>\n",
       "      <th>2</th>\n",
       "      <th>3</th>\n",
       "      <th>4</th>\n",
       "      <th>5</th>\n",
       "      <th>6</th>\n",
       "      <th>7</th>\n",
       "      <th>8</th>\n",
       "      <th>9</th>\n",
       "      <th>10</th>\n",
       "      <th>11</th>\n",
       "    </tr>\n",
       "  </thead>\n",
       "  <tbody>\n",
       "    <tr>\n",
       "      <th>count</th>\n",
       "      <td>1907.000000</td>\n",
       "      <td>1907.000000</td>\n",
       "      <td>1907.000000</td>\n",
       "      <td>1907.000000</td>\n",
       "      <td>1.907000e+03</td>\n",
       "      <td>1907.000000</td>\n",
       "      <td>1907.000000</td>\n",
       "      <td>1907.000000</td>\n",
       "      <td>1907.000000</td>\n",
       "      <td>1907.000000</td>\n",
       "      <td>1907.000000</td>\n",
       "      <td>1907.000000</td>\n",
       "    </tr>\n",
       "    <tr>\n",
       "      <th>mean</th>\n",
       "      <td>0.016379</td>\n",
       "      <td>0.338153</td>\n",
       "      <td>0.056334</td>\n",
       "      <td>0.168871</td>\n",
       "      <td>6.233341e-02</td>\n",
       "      <td>0.055232</td>\n",
       "      <td>0.038287</td>\n",
       "      <td>0.105633</td>\n",
       "      <td>0.245618</td>\n",
       "      <td>0.048687</td>\n",
       "      <td>0.036717</td>\n",
       "      <td>0.035851</td>\n",
       "    </tr>\n",
       "    <tr>\n",
       "      <th>std</th>\n",
       "      <td>0.061943</td>\n",
       "      <td>0.316626</td>\n",
       "      <td>0.123109</td>\n",
       "      <td>0.099245</td>\n",
       "      <td>1.401622e-01</td>\n",
       "      <td>0.100979</td>\n",
       "      <td>0.077504</td>\n",
       "      <td>0.140161</td>\n",
       "      <td>0.232219</td>\n",
       "      <td>0.060797</td>\n",
       "      <td>0.050399</td>\n",
       "      <td>0.098926</td>\n",
       "    </tr>\n",
       "    <tr>\n",
       "      <th>min</th>\n",
       "      <td>0.000000</td>\n",
       "      <td>0.000000</td>\n",
       "      <td>0.000000</td>\n",
       "      <td>0.000000</td>\n",
       "      <td>0.000000e+00</td>\n",
       "      <td>0.000000</td>\n",
       "      <td>0.000000</td>\n",
       "      <td>0.000000</td>\n",
       "      <td>0.000000</td>\n",
       "      <td>0.000000</td>\n",
       "      <td>0.000000</td>\n",
       "      <td>0.000000</td>\n",
       "    </tr>\n",
       "    <tr>\n",
       "      <th>25%</th>\n",
       "      <td>0.000093</td>\n",
       "      <td>0.071282</td>\n",
       "      <td>0.000000</td>\n",
       "      <td>0.140014</td>\n",
       "      <td>6.813669e-07</td>\n",
       "      <td>0.010167</td>\n",
       "      <td>0.007010</td>\n",
       "      <td>0.033653</td>\n",
       "      <td>0.059079</td>\n",
       "      <td>0.017424</td>\n",
       "      <td>0.018284</td>\n",
       "      <td>0.000340</td>\n",
       "    </tr>\n",
       "    <tr>\n",
       "      <th>50%</th>\n",
       "      <td>0.002606</td>\n",
       "      <td>0.208913</td>\n",
       "      <td>0.000000</td>\n",
       "      <td>0.170740</td>\n",
       "      <td>3.837883e-03</td>\n",
       "      <td>0.020921</td>\n",
       "      <td>0.014524</td>\n",
       "      <td>0.055148</td>\n",
       "      <td>0.152009</td>\n",
       "      <td>0.035529</td>\n",
       "      <td>0.031267</td>\n",
       "      <td>0.007903</td>\n",
       "    </tr>\n",
       "    <tr>\n",
       "      <th>75%</th>\n",
       "      <td>0.006669</td>\n",
       "      <td>0.644536</td>\n",
       "      <td>0.000000</td>\n",
       "      <td>0.221892</td>\n",
       "      <td>5.998457e-02</td>\n",
       "      <td>0.046552</td>\n",
       "      <td>0.032942</td>\n",
       "      <td>0.112720</td>\n",
       "      <td>0.452794</td>\n",
       "      <td>0.061618</td>\n",
       "      <td>0.044380</td>\n",
       "      <td>0.025041</td>\n",
       "    </tr>\n",
       "    <tr>\n",
       "      <th>max</th>\n",
       "      <td>1.000000</td>\n",
       "      <td>1.000000</td>\n",
       "      <td>1.000000</td>\n",
       "      <td>1.000000</td>\n",
       "      <td>1.000000e+00</td>\n",
       "      <td>1.000000</td>\n",
       "      <td>1.000000</td>\n",
       "      <td>1.000000</td>\n",
       "      <td>1.000000</td>\n",
       "      <td>1.000000</td>\n",
       "      <td>1.000000</td>\n",
       "      <td>1.000000</td>\n",
       "    </tr>\n",
       "  </tbody>\n",
       "</table>\n",
       "</div>"
      ],
      "text/plain": [
       "                0            1            2            3             4   \\\n",
       "count  1907.000000  1907.000000  1907.000000  1907.000000  1.907000e+03   \n",
       "mean      0.016379     0.338153     0.056334     0.168871  6.233341e-02   \n",
       "std       0.061943     0.316626     0.123109     0.099245  1.401622e-01   \n",
       "min       0.000000     0.000000     0.000000     0.000000  0.000000e+00   \n",
       "25%       0.000093     0.071282     0.000000     0.140014  6.813669e-07   \n",
       "50%       0.002606     0.208913     0.000000     0.170740  3.837883e-03   \n",
       "75%       0.006669     0.644536     0.000000     0.221892  5.998457e-02   \n",
       "max       1.000000     1.000000     1.000000     1.000000  1.000000e+00   \n",
       "\n",
       "                5            6            7            8            9   \\\n",
       "count  1907.000000  1907.000000  1907.000000  1907.000000  1907.000000   \n",
       "mean      0.055232     0.038287     0.105633     0.245618     0.048687   \n",
       "std       0.100979     0.077504     0.140161     0.232219     0.060797   \n",
       "min       0.000000     0.000000     0.000000     0.000000     0.000000   \n",
       "25%       0.010167     0.007010     0.033653     0.059079     0.017424   \n",
       "50%       0.020921     0.014524     0.055148     0.152009     0.035529   \n",
       "75%       0.046552     0.032942     0.112720     0.452794     0.061618   \n",
       "max       1.000000     1.000000     1.000000     1.000000     1.000000   \n",
       "\n",
       "                10           11  \n",
       "count  1907.000000  1907.000000  \n",
       "mean      0.036717     0.035851  \n",
       "std       0.050399     0.098926  \n",
       "min       0.000000     0.000000  \n",
       "25%       0.018284     0.000340  \n",
       "50%       0.031267     0.007903  \n",
       "75%       0.044380     0.025041  \n",
       "max       1.000000     1.000000  "
      ]
     },
     "execution_count": 16,
     "metadata": {},
     "output_type": "execute_result"
    }
   ],
   "source": [
    "pd.DataFrame(X_train).describe()"
   ]
  },
  {
   "cell_type": "markdown",
   "metadata": {},
   "source": [
    "#### Modelling and evaluation\n",
    "\n",
    "Algorithms for modelling\n",
    "1. Linear Regression\n",
    "2. Ridge regression with grid search\n",
    "3. Lasso regression with and without 2nd degree polynomial (with grid search)\n",
    "4. SVM with Linear, Radial and polynomial kernels (with grid search)\n",
    "5. Random Forest (with grid search)\n",
    "\n",
    "Model Evaluation and parameter selection\n",
    "\n",
    "1. Model scoring\n",
    "    - We considered Mean Squared Error on test dataset as a measure for choosing best metrics along with difference in test and train MSE to understand avoid overfitting\n",
    "    \n",
    "2. Grid Search and cross validation\n",
    "    - We are using GridSearchCV with 5 fold cross validation and repspective tuning parameters based on algorithm"
   ]
  },
  {
   "cell_type": "markdown",
   "metadata": {},
   "source": [
    "### Linear Regression"
   ]
  },
  {
   "cell_type": "code",
   "execution_count": 17,
   "metadata": {
    "collapsed": true
   },
   "outputs": [],
   "source": [
    "from sklearn.metrics import r2_score, mean_squared_error\n",
    "from sklearn.model_selection import GridSearchCV\n",
    "model_results = pd.DataFrame(index=None, columns=['model','train_Rsquare', 'test_Rsquare', 'train_MSE','test_MSE'])"
   ]
  },
  {
   "cell_type": "code",
   "execution_count": 18,
   "metadata": {},
   "outputs": [
    {
     "data": {
      "text/html": [
       "<div>\n",
       "<style>\n",
       "    .dataframe thead tr:only-child th {\n",
       "        text-align: right;\n",
       "    }\n",
       "\n",
       "    .dataframe thead th {\n",
       "        text-align: left;\n",
       "    }\n",
       "\n",
       "    .dataframe tbody tr th {\n",
       "        vertical-align: top;\n",
       "    }\n",
       "</style>\n",
       "<table border=\"1\" class=\"dataframe\">\n",
       "  <thead>\n",
       "    <tr style=\"text-align: right;\">\n",
       "      <th></th>\n",
       "      <th>model</th>\n",
       "      <th>train_Rsquare</th>\n",
       "      <th>test_Rsquare</th>\n",
       "      <th>train_MSE</th>\n",
       "      <th>test_MSE</th>\n",
       "    </tr>\n",
       "  </thead>\n",
       "  <tbody>\n",
       "    <tr>\n",
       "      <th>0</th>\n",
       "      <td>LinrearRegression</td>\n",
       "      <td>0.891655</td>\n",
       "      <td>0.894821</td>\n",
       "      <td>0.835524</td>\n",
       "      <td>0.810163</td>\n",
       "    </tr>\n",
       "  </tbody>\n",
       "</table>\n",
       "</div>"
      ],
      "text/plain": [
       "               model  train_Rsquare  test_Rsquare  train_MSE  test_MSE\n",
       "0  LinrearRegression       0.891655      0.894821   0.835524  0.810163"
      ]
     },
     "execution_count": 18,
     "metadata": {},
     "output_type": "execute_result"
    }
   ],
   "source": [
    "#\n",
    "from sklearn.linear_model import LinearRegression\n",
    "\n",
    "linear_reg = LinearRegression()\n",
    "linear_reg.fit(X_train, y_train)\n",
    "\n",
    "train_Rsquare = linear_reg.score(X_train, y_train)\n",
    "test_Rsquare = linear_reg.score(X_test, y_test)\n",
    "train_MSE = mean_squared_error(y_train, linear_reg.predict(X_train))\n",
    "test_MSE = mean_squared_error(y_test, linear_reg.predict(X_test))\n",
    "\n",
    "model_results = model_results.append(pd.Series({'model':'LinrearRegression','train_Rsquare':train_Rsquare, 'test_Rsquare':test_Rsquare, 'train_MSE':train_MSE,'test_MSE':test_MSE}),ignore_index=True )\n",
    "model_results"
   ]
  },
  {
   "cell_type": "markdown",
   "metadata": {},
   "source": [
    "The Linear regression has high R square value of 0.89. The train MSE is actually higher than test MSE."
   ]
  },
  {
   "cell_type": "code",
   "execution_count": 19,
   "metadata": {},
   "outputs": [
    {
     "data": {
      "text/plain": [
       "array([-0.71441664,  3.34575488,  1.39494549,  2.25136452, -4.11437343,\n",
       "       -1.48836568, -9.9544127 , 11.639879  ,  4.6446025 , -0.8186243 ,\n",
       "       -1.8083073 , -5.69901486])"
      ]
     },
     "execution_count": 19,
     "metadata": {},
     "output_type": "execute_result"
    }
   ],
   "source": [
    "linear_reg.coef_"
   ]
  },
  {
   "cell_type": "markdown",
   "metadata": {},
   "source": [
    " "
   ]
  },
  {
   "cell_type": "code",
   "execution_count": 20,
   "metadata": {},
   "outputs": [
    {
     "name": "stdout",
     "output_type": "stream",
     "text": [
      "Best parameters for Ridge {'alpha': 0.1}\n"
     ]
    },
    {
     "data": {
      "text/html": [
       "<div>\n",
       "<style>\n",
       "    .dataframe thead tr:only-child th {\n",
       "        text-align: right;\n",
       "    }\n",
       "\n",
       "    .dataframe thead th {\n",
       "        text-align: left;\n",
       "    }\n",
       "\n",
       "    .dataframe tbody tr th {\n",
       "        vertical-align: top;\n",
       "    }\n",
       "</style>\n",
       "<table border=\"1\" class=\"dataframe\">\n",
       "  <thead>\n",
       "    <tr style=\"text-align: right;\">\n",
       "      <th></th>\n",
       "      <th>model</th>\n",
       "      <th>train_Rsquare</th>\n",
       "      <th>test_Rsquare</th>\n",
       "      <th>train_MSE</th>\n",
       "      <th>test_MSE</th>\n",
       "    </tr>\n",
       "  </thead>\n",
       "  <tbody>\n",
       "    <tr>\n",
       "      <th>0</th>\n",
       "      <td>LinrearRegression</td>\n",
       "      <td>0.891655</td>\n",
       "      <td>0.894821</td>\n",
       "      <td>0.835524</td>\n",
       "      <td>0.810163</td>\n",
       "    </tr>\n",
       "    <tr>\n",
       "      <th>1</th>\n",
       "      <td>Ridge</td>\n",
       "      <td>0.891629</td>\n",
       "      <td>0.894849</td>\n",
       "      <td>0.835724</td>\n",
       "      <td>0.809946</td>\n",
       "    </tr>\n",
       "  </tbody>\n",
       "</table>\n",
       "</div>"
      ],
      "text/plain": [
       "               model  train_Rsquare  test_Rsquare  train_MSE  test_MSE\n",
       "0  LinrearRegression       0.891655      0.894821   0.835524  0.810163\n",
       "1              Ridge       0.891629      0.894849   0.835724  0.809946"
      ]
     },
     "execution_count": 20,
     "metadata": {},
     "output_type": "execute_result"
    }
   ],
   "source": [
    "# Ridge regression with tuning alpha\n",
    "\n",
    "from sklearn.linear_model import Lasso, Ridge\n",
    "\n",
    "\n",
    "#\n",
    "param_grid = {'alpha':[0.01, 0.1, 0.5, 1, 10, 50, 100]}\n",
    "\n",
    "ridge_reg = Ridge()\n",
    "\n",
    "grid_search = GridSearchCV(ridge_reg, param_grid, cv=5)\n",
    "grid_search.fit(X_train, y_train)\n",
    "\n",
    "print('Best parameters for Ridge {}'.format(grid_search.best_params_))\n",
    "\n",
    "train_Rsquare = grid_search.score(X_train, y_train)\n",
    "test_Rsquare = grid_search.score(X_test, y_test)\n",
    "train_MSE = mean_squared_error(y_train, grid_search.predict(X_train))\n",
    "test_MSE = mean_squared_error(y_test, grid_search.predict(X_test))\n",
    "\n",
    "model_results = model_results.append(pd.Series({'model':'Ridge','train_Rsquare':train_Rsquare, 'test_Rsquare':test_Rsquare, 'train_MSE':train_MSE,'test_MSE':test_MSE}),ignore_index=True )\n",
    "model_results"
   ]
  },
  {
   "cell_type": "markdown",
   "metadata": {},
   "source": [
    "Ridge regression with tuning alpha did not improve the model. The possible reason is becuase of very small number of important variables and strinkage is not really useful in this case"
   ]
  },
  {
   "cell_type": "code",
   "execution_count": 21,
   "metadata": {},
   "outputs": [
    {
     "name": "stdout",
     "output_type": "stream",
     "text": [
      "Best parameters for Lasso {'alpha': 0.01, 'tol': 0.01}\n"
     ]
    },
    {
     "data": {
      "text/html": [
       "<div>\n",
       "<style>\n",
       "    .dataframe thead tr:only-child th {\n",
       "        text-align: right;\n",
       "    }\n",
       "\n",
       "    .dataframe thead th {\n",
       "        text-align: left;\n",
       "    }\n",
       "\n",
       "    .dataframe tbody tr th {\n",
       "        vertical-align: top;\n",
       "    }\n",
       "</style>\n",
       "<table border=\"1\" class=\"dataframe\">\n",
       "  <thead>\n",
       "    <tr style=\"text-align: right;\">\n",
       "      <th></th>\n",
       "      <th>model</th>\n",
       "      <th>train_Rsquare</th>\n",
       "      <th>test_Rsquare</th>\n",
       "      <th>train_MSE</th>\n",
       "      <th>test_MSE</th>\n",
       "    </tr>\n",
       "  </thead>\n",
       "  <tbody>\n",
       "    <tr>\n",
       "      <th>0</th>\n",
       "      <td>LinrearRegression</td>\n",
       "      <td>0.891655</td>\n",
       "      <td>0.894821</td>\n",
       "      <td>0.835524</td>\n",
       "      <td>0.810163</td>\n",
       "    </tr>\n",
       "    <tr>\n",
       "      <th>1</th>\n",
       "      <td>Ridge</td>\n",
       "      <td>0.891629</td>\n",
       "      <td>0.894849</td>\n",
       "      <td>0.835724</td>\n",
       "      <td>0.809946</td>\n",
       "    </tr>\n",
       "    <tr>\n",
       "      <th>2</th>\n",
       "      <td>Lasso</td>\n",
       "      <td>0.875295</td>\n",
       "      <td>0.877676</td>\n",
       "      <td>0.961690</td>\n",
       "      <td>0.942224</td>\n",
       "    </tr>\n",
       "  </tbody>\n",
       "</table>\n",
       "</div>"
      ],
      "text/plain": [
       "               model  train_Rsquare  test_Rsquare  train_MSE  test_MSE\n",
       "0  LinrearRegression       0.891655      0.894821   0.835524  0.810163\n",
       "1              Ridge       0.891629      0.894849   0.835724  0.809946\n",
       "2              Lasso       0.875295      0.877676   0.961690  0.942224"
      ]
     },
     "execution_count": 21,
     "metadata": {},
     "output_type": "execute_result"
    }
   ],
   "source": [
    "##Lasso regression with tuning alpha and tolerance\n",
    "\n",
    "from sklearn.linear_model import Lasso\n",
    "\n",
    "#\n",
    "param_grid = {'alpha':[0.01, 0.1, 0.5, 1, 10, 50, 100], 'tol':[0.0001,0.001,0.01,0.1]}\n",
    "\n",
    "lasso_reg = Lasso()\n",
    "\n",
    "grid_search = GridSearchCV(lasso_reg, param_grid, cv=5)\n",
    "grid_search.fit(X_train, y_train)\n",
    "\n",
    "print('Best parameters for Lasso {}'.format(grid_search.best_params_))\n",
    "\n",
    "train_Rsquare = grid_search.score(X_train, y_train)\n",
    "test_Rsquare = grid_search.score(X_test, y_test)\n",
    "train_MSE = mean_squared_error(y_train, grid_search.predict(X_train))\n",
    "test_MSE = mean_squared_error(y_test, grid_search.predict(X_test))\n",
    "\n",
    "model_results = model_results.append(pd.Series({'model':'Lasso','train_Rsquare':train_Rsquare, 'test_Rsquare':test_Rsquare, 'train_MSE':train_MSE,'test_MSE':test_MSE}),ignore_index=True )\n",
    "model_results\n"
   ]
  },
  {
   "cell_type": "markdown",
   "metadata": {},
   "source": [
    "The performance of Lasso is worse than Ridge and so for adding polynomila features we will use Ridge regression"
   ]
  },
  {
   "cell_type": "markdown",
   "metadata": {},
   "source": [
    " "
   ]
  },
  {
   "cell_type": "markdown",
   "metadata": {},
   "source": [
    "Creating polynomial features"
   ]
  },
  {
   "cell_type": "code",
   "execution_count": 22,
   "metadata": {
    "collapsed": true
   },
   "outputs": [],
   "source": [
    "# Since Ridge performed better than Lasso, we will add polynimial feats in Ridge\n",
    "from sklearn.preprocessing import PolynomialFeatures\n",
    "\n",
    "poly2 = PolynomialFeatures(degree =2)\n",
    "X_train2 = poly2.fit_transform(X_train)\n",
    "X_test2 = poly2.transform(X_test)"
   ]
  },
  {
   "cell_type": "markdown",
   "metadata": {},
   "source": [
    "Ridge regression with on polynomial dataset"
   ]
  },
  {
   "cell_type": "code",
   "execution_count": 23,
   "metadata": {},
   "outputs": [
    {
     "name": "stdout",
     "output_type": "stream",
     "text": [
      "Best parameters for Ridge {'alpha': 0.01}\n"
     ]
    },
    {
     "data": {
      "text/html": [
       "<div>\n",
       "<style>\n",
       "    .dataframe thead tr:only-child th {\n",
       "        text-align: right;\n",
       "    }\n",
       "\n",
       "    .dataframe thead th {\n",
       "        text-align: left;\n",
       "    }\n",
       "\n",
       "    .dataframe tbody tr th {\n",
       "        vertical-align: top;\n",
       "    }\n",
       "</style>\n",
       "<table border=\"1\" class=\"dataframe\">\n",
       "  <thead>\n",
       "    <tr style=\"text-align: right;\">\n",
       "      <th></th>\n",
       "      <th>model</th>\n",
       "      <th>train_Rsquare</th>\n",
       "      <th>test_Rsquare</th>\n",
       "      <th>train_MSE</th>\n",
       "      <th>test_MSE</th>\n",
       "    </tr>\n",
       "  </thead>\n",
       "  <tbody>\n",
       "    <tr>\n",
       "      <th>0</th>\n",
       "      <td>LinrearRegression</td>\n",
       "      <td>0.891655</td>\n",
       "      <td>0.894821</td>\n",
       "      <td>0.835524</td>\n",
       "      <td>0.810163</td>\n",
       "    </tr>\n",
       "    <tr>\n",
       "      <th>1</th>\n",
       "      <td>Ridge</td>\n",
       "      <td>0.891629</td>\n",
       "      <td>0.894849</td>\n",
       "      <td>0.835724</td>\n",
       "      <td>0.809946</td>\n",
       "    </tr>\n",
       "    <tr>\n",
       "      <th>2</th>\n",
       "      <td>Lasso</td>\n",
       "      <td>0.875295</td>\n",
       "      <td>0.877676</td>\n",
       "      <td>0.961690</td>\n",
       "      <td>0.942224</td>\n",
       "    </tr>\n",
       "    <tr>\n",
       "      <th>3</th>\n",
       "      <td>Poly_2_Ridge</td>\n",
       "      <td>0.973636</td>\n",
       "      <td>0.975644</td>\n",
       "      <td>0.203314</td>\n",
       "      <td>0.187608</td>\n",
       "    </tr>\n",
       "  </tbody>\n",
       "</table>\n",
       "</div>"
      ],
      "text/plain": [
       "               model  train_Rsquare  test_Rsquare  train_MSE  test_MSE\n",
       "0  LinrearRegression       0.891655      0.894821   0.835524  0.810163\n",
       "1              Ridge       0.891629      0.894849   0.835724  0.809946\n",
       "2              Lasso       0.875295      0.877676   0.961690  0.942224\n",
       "3       Poly_2_Ridge       0.973636      0.975644   0.203314  0.187608"
      ]
     },
     "execution_count": 23,
     "metadata": {},
     "output_type": "execute_result"
    }
   ],
   "source": [
    "#Tuning ridge on new dataset\n",
    "param_grid = {'alpha':[0.01, 0.1, 0.5, 1, 10, 50, 100]}\n",
    "\n",
    "ridge_reg = Ridge()\n",
    "\n",
    "grid_search = GridSearchCV(ridge_reg, param_grid, cv=5)\n",
    "grid_search.fit(X_train2, y_train)\n",
    "\n",
    "print('Best parameters for Ridge {}'.format(grid_search.best_params_))\n",
    "\n",
    "train_Rsquare = grid_search.score(X_train2, y_train)\n",
    "test_Rsquare = grid_search.score(X_test2, y_test)\n",
    "train_MSE = mean_squared_error(y_train, grid_search.predict(X_train2))\n",
    "test_MSE = mean_squared_error(y_test, grid_search.predict(X_test2))\n",
    "\n",
    "model_results = model_results.append(pd.Series({'model':'Poly_2_Ridge','train_Rsquare':train_Rsquare, 'test_Rsquare':test_Rsquare, 'train_MSE':train_MSE,'test_MSE':test_MSE}),ignore_index=True )\n",
    "model_results"
   ]
  },
  {
   "cell_type": "markdown",
   "metadata": {},
   "source": [
    "The polynomial features have added significant value. There is a 10% increase in R square with MSE decreasing to 0.2 from 0.1."
   ]
  },
  {
   "cell_type": "markdown",
   "metadata": {},
   "source": [
    " "
   ]
  },
  {
   "cell_type": "code",
   "execution_count": 24,
   "metadata": {},
   "outputs": [
    {
     "name": "stdout",
     "output_type": "stream",
     "text": [
      "Best parameters for Ridge {'algorithm': 'brute', 'n_neighbors': 5, 'weights': 'distance'}\n"
     ]
    },
    {
     "data": {
      "text/html": [
       "<div>\n",
       "<style>\n",
       "    .dataframe thead tr:only-child th {\n",
       "        text-align: right;\n",
       "    }\n",
       "\n",
       "    .dataframe thead th {\n",
       "        text-align: left;\n",
       "    }\n",
       "\n",
       "    .dataframe tbody tr th {\n",
       "        vertical-align: top;\n",
       "    }\n",
       "</style>\n",
       "<table border=\"1\" class=\"dataframe\">\n",
       "  <thead>\n",
       "    <tr style=\"text-align: right;\">\n",
       "      <th></th>\n",
       "      <th>model</th>\n",
       "      <th>train_Rsquare</th>\n",
       "      <th>test_Rsquare</th>\n",
       "      <th>train_MSE</th>\n",
       "      <th>test_MSE</th>\n",
       "    </tr>\n",
       "  </thead>\n",
       "  <tbody>\n",
       "    <tr>\n",
       "      <th>0</th>\n",
       "      <td>LinrearRegression</td>\n",
       "      <td>0.891655</td>\n",
       "      <td>0.894821</td>\n",
       "      <td>0.835524</td>\n",
       "      <td>0.810163</td>\n",
       "    </tr>\n",
       "    <tr>\n",
       "      <th>1</th>\n",
       "      <td>Ridge</td>\n",
       "      <td>0.891629</td>\n",
       "      <td>0.894849</td>\n",
       "      <td>0.835724</td>\n",
       "      <td>0.809946</td>\n",
       "    </tr>\n",
       "    <tr>\n",
       "      <th>2</th>\n",
       "      <td>Lasso</td>\n",
       "      <td>0.875295</td>\n",
       "      <td>0.877676</td>\n",
       "      <td>0.961690</td>\n",
       "      <td>0.942224</td>\n",
       "    </tr>\n",
       "    <tr>\n",
       "      <th>3</th>\n",
       "      <td>Poly_2_Ridge</td>\n",
       "      <td>0.973636</td>\n",
       "      <td>0.975644</td>\n",
       "      <td>0.203314</td>\n",
       "      <td>0.187608</td>\n",
       "    </tr>\n",
       "    <tr>\n",
       "      <th>4</th>\n",
       "      <td>Knn</td>\n",
       "      <td>1.000000</td>\n",
       "      <td>0.987820</td>\n",
       "      <td>0.000000</td>\n",
       "      <td>0.093823</td>\n",
       "    </tr>\n",
       "  </tbody>\n",
       "</table>\n",
       "</div>"
      ],
      "text/plain": [
       "               model  train_Rsquare  test_Rsquare  train_MSE  test_MSE\n",
       "0  LinrearRegression       0.891655      0.894821   0.835524  0.810163\n",
       "1              Ridge       0.891629      0.894849   0.835724  0.809946\n",
       "2              Lasso       0.875295      0.877676   0.961690  0.942224\n",
       "3       Poly_2_Ridge       0.973636      0.975644   0.203314  0.187608\n",
       "4                Knn       1.000000      0.987820   0.000000  0.093823"
      ]
     },
     "execution_count": 24,
     "metadata": {},
     "output_type": "execute_result"
    }
   ],
   "source": [
    "from sklearn.neighbors import KNeighborsRegressor\n",
    "\n",
    "#Tuning ridge on new dataset\n",
    "param_grid = {'algorithm':['brute', 'kd_tree'], 'weights':['distance', 'uniform'], 'n_neighbors':[5,10,15,20,50] }\n",
    "\n",
    "knn_reg = KNeighborsRegressor()\n",
    "\n",
    "grid_search = GridSearchCV(knn_reg, param_grid, cv=5)\n",
    "grid_search.fit(X_train, y_train)\n",
    "\n",
    "print('Best parameters for Ridge {}'.format(grid_search.best_params_))\n",
    "\n",
    "train_Rsquare = grid_search.score(X_train, y_train)\n",
    "test_Rsquare = grid_search.score(X_test, y_test)\n",
    "train_MSE = mean_squared_error(y_train, grid_search.predict(X_train))\n",
    "test_MSE = mean_squared_error(y_test, grid_search.predict(X_test))\n",
    "\n",
    "model_results = model_results.append(pd.Series({'model':'Knn','train_Rsquare':train_Rsquare, 'test_Rsquare':test_Rsquare, 'train_MSE':train_MSE,'test_MSE':test_MSE}),ignore_index=True )\n",
    "model_results"
   ]
  },
  {
   "cell_type": "markdown",
   "metadata": {},
   "source": [
    "#### Even though Knn is giving perfect R square, it is clearly overfitting becasue of the naure of the data and sampling\n",
    "\n",
    "We have continuous data which is randomly split between test and train. This means we are trying to predict value of say Tueday based on the other values in the week which will be highly correlated.\n",
    "\n",
    "Hence Knn will be excluded from model selection process"
   ]
  },
  {
   "cell_type": "markdown",
   "metadata": {},
   "source": [
    " "
   ]
  },
  {
   "cell_type": "markdown",
   "metadata": {},
   "source": [
    "##### SVM\n",
    "We tested three kernels in SVM - Linear, Radial and Sigmoid\n",
    "\n",
    "Based on the performance of LineraRegression we expect Radial to perform the best in these set of kernels"
   ]
  },
  {
   "cell_type": "code",
   "execution_count": 25,
   "metadata": {},
   "outputs": [
    {
     "name": "stdout",
     "output_type": "stream",
     "text": [
      "Best parameters for Linear SVM {'C': 1, 'epsilon': 0.5}\n"
     ]
    },
    {
     "data": {
      "text/html": [
       "<div>\n",
       "<style>\n",
       "    .dataframe thead tr:only-child th {\n",
       "        text-align: right;\n",
       "    }\n",
       "\n",
       "    .dataframe thead th {\n",
       "        text-align: left;\n",
       "    }\n",
       "\n",
       "    .dataframe tbody tr th {\n",
       "        vertical-align: top;\n",
       "    }\n",
       "</style>\n",
       "<table border=\"1\" class=\"dataframe\">\n",
       "  <thead>\n",
       "    <tr style=\"text-align: right;\">\n",
       "      <th></th>\n",
       "      <th>model</th>\n",
       "      <th>train_Rsquare</th>\n",
       "      <th>test_Rsquare</th>\n",
       "      <th>train_MSE</th>\n",
       "      <th>test_MSE</th>\n",
       "    </tr>\n",
       "  </thead>\n",
       "  <tbody>\n",
       "    <tr>\n",
       "      <th>0</th>\n",
       "      <td>LinrearRegression</td>\n",
       "      <td>0.891655</td>\n",
       "      <td>0.894821</td>\n",
       "      <td>0.835524</td>\n",
       "      <td>0.810163</td>\n",
       "    </tr>\n",
       "    <tr>\n",
       "      <th>1</th>\n",
       "      <td>Ridge</td>\n",
       "      <td>0.891629</td>\n",
       "      <td>0.894849</td>\n",
       "      <td>0.835724</td>\n",
       "      <td>0.809946</td>\n",
       "    </tr>\n",
       "    <tr>\n",
       "      <th>2</th>\n",
       "      <td>Lasso</td>\n",
       "      <td>0.875295</td>\n",
       "      <td>0.877676</td>\n",
       "      <td>0.961690</td>\n",
       "      <td>0.942224</td>\n",
       "    </tr>\n",
       "    <tr>\n",
       "      <th>3</th>\n",
       "      <td>Poly_2_Ridge</td>\n",
       "      <td>0.973636</td>\n",
       "      <td>0.975644</td>\n",
       "      <td>0.203314</td>\n",
       "      <td>0.187608</td>\n",
       "    </tr>\n",
       "    <tr>\n",
       "      <th>4</th>\n",
       "      <td>Knn</td>\n",
       "      <td>1.000000</td>\n",
       "      <td>0.987820</td>\n",
       "      <td>0.000000</td>\n",
       "      <td>0.093823</td>\n",
       "    </tr>\n",
       "    <tr>\n",
       "      <th>5</th>\n",
       "      <td>LinearSVM</td>\n",
       "      <td>0.886963</td>\n",
       "      <td>0.889107</td>\n",
       "      <td>0.871706</td>\n",
       "      <td>0.854177</td>\n",
       "    </tr>\n",
       "  </tbody>\n",
       "</table>\n",
       "</div>"
      ],
      "text/plain": [
       "               model  train_Rsquare  test_Rsquare  train_MSE  test_MSE\n",
       "0  LinrearRegression       0.891655      0.894821   0.835524  0.810163\n",
       "1              Ridge       0.891629      0.894849   0.835724  0.809946\n",
       "2              Lasso       0.875295      0.877676   0.961690  0.942224\n",
       "3       Poly_2_Ridge       0.973636      0.975644   0.203314  0.187608\n",
       "4                Knn       1.000000      0.987820   0.000000  0.093823\n",
       "5          LinearSVM       0.886963      0.889107   0.871706  0.854177"
      ]
     },
     "execution_count": 25,
     "metadata": {},
     "output_type": "execute_result"
    }
   ],
   "source": [
    "# SVM with Linear, Radial and Sigmoid kernel\n",
    "from sklearn.svm import SVR\n",
    "\n",
    "##Linear\n",
    "#Tuning ridge on new dataset\n",
    "param_grid = {'C':[0.001, 0.01, 0.1, 0.5, 1, 10, 50, 100], 'epsilon' :  [0.01, 0.1, 0.5, 1] }\n",
    "\n",
    "svr_linear = SVR(kernel='linear')\n",
    "\n",
    "grid_search = GridSearchCV(svr_linear, param_grid, cv=5)\n",
    "grid_search.fit(X_train, y_train)\n",
    "\n",
    "print('Best parameters for Linear SVM {}'.format(grid_search.best_params_))\n",
    "\n",
    "train_Rsquare = grid_search.score(X_train, y_train)\n",
    "test_Rsquare = grid_search.score(X_test, y_test)\n",
    "train_MSE = mean_squared_error(y_train, grid_search.predict(X_train))\n",
    "test_MSE = mean_squared_error(y_test, grid_search.predict(X_test))\n",
    "\n",
    "model_results = model_results.append(pd.Series({'model':'LinearSVM','train_Rsquare':train_Rsquare, 'test_Rsquare':test_Rsquare, 'train_MSE':train_MSE,'test_MSE':test_MSE}),ignore_index=True )\n",
    "model_results"
   ]
  },
  {
   "cell_type": "code",
   "execution_count": 26,
   "metadata": {},
   "outputs": [
    {
     "name": "stdout",
     "output_type": "stream",
     "text": [
      "Best parameters for radial kernel SVM {'C': 1, 'epsilon': 0.5, 'gamma': 0.001}\n"
     ]
    },
    {
     "data": {
      "text/html": [
       "<div>\n",
       "<style>\n",
       "    .dataframe thead tr:only-child th {\n",
       "        text-align: right;\n",
       "    }\n",
       "\n",
       "    .dataframe thead th {\n",
       "        text-align: left;\n",
       "    }\n",
       "\n",
       "    .dataframe tbody tr th {\n",
       "        vertical-align: top;\n",
       "    }\n",
       "</style>\n",
       "<table border=\"1\" class=\"dataframe\">\n",
       "  <thead>\n",
       "    <tr style=\"text-align: right;\">\n",
       "      <th></th>\n",
       "      <th>model</th>\n",
       "      <th>train_Rsquare</th>\n",
       "      <th>test_Rsquare</th>\n",
       "      <th>train_MSE</th>\n",
       "      <th>test_MSE</th>\n",
       "    </tr>\n",
       "  </thead>\n",
       "  <tbody>\n",
       "    <tr>\n",
       "      <th>0</th>\n",
       "      <td>LinrearRegression</td>\n",
       "      <td>0.891655</td>\n",
       "      <td>0.894821</td>\n",
       "      <td>0.835524</td>\n",
       "      <td>0.810163</td>\n",
       "    </tr>\n",
       "    <tr>\n",
       "      <th>1</th>\n",
       "      <td>Ridge</td>\n",
       "      <td>0.891629</td>\n",
       "      <td>0.894849</td>\n",
       "      <td>0.835724</td>\n",
       "      <td>0.809946</td>\n",
       "    </tr>\n",
       "    <tr>\n",
       "      <th>2</th>\n",
       "      <td>Lasso</td>\n",
       "      <td>0.875295</td>\n",
       "      <td>0.877676</td>\n",
       "      <td>0.961690</td>\n",
       "      <td>0.942224</td>\n",
       "    </tr>\n",
       "    <tr>\n",
       "      <th>3</th>\n",
       "      <td>Poly_2_Ridge</td>\n",
       "      <td>0.973636</td>\n",
       "      <td>0.975644</td>\n",
       "      <td>0.203314</td>\n",
       "      <td>0.187608</td>\n",
       "    </tr>\n",
       "    <tr>\n",
       "      <th>4</th>\n",
       "      <td>Knn</td>\n",
       "      <td>1.000000</td>\n",
       "      <td>0.987820</td>\n",
       "      <td>0.000000</td>\n",
       "      <td>0.093823</td>\n",
       "    </tr>\n",
       "    <tr>\n",
       "      <th>5</th>\n",
       "      <td>LinearSVM</td>\n",
       "      <td>0.886963</td>\n",
       "      <td>0.889107</td>\n",
       "      <td>0.871706</td>\n",
       "      <td>0.854177</td>\n",
       "    </tr>\n",
       "    <tr>\n",
       "      <th>6</th>\n",
       "      <td>SVM_rbf</td>\n",
       "      <td>0.886963</td>\n",
       "      <td>0.889107</td>\n",
       "      <td>0.871706</td>\n",
       "      <td>0.854177</td>\n",
       "    </tr>\n",
       "  </tbody>\n",
       "</table>\n",
       "</div>"
      ],
      "text/plain": [
       "               model  train_Rsquare  test_Rsquare  train_MSE  test_MSE\n",
       "0  LinrearRegression       0.891655      0.894821   0.835524  0.810163\n",
       "1              Ridge       0.891629      0.894849   0.835724  0.809946\n",
       "2              Lasso       0.875295      0.877676   0.961690  0.942224\n",
       "3       Poly_2_Ridge       0.973636      0.975644   0.203314  0.187608\n",
       "4                Knn       1.000000      0.987820   0.000000  0.093823\n",
       "5          LinearSVM       0.886963      0.889107   0.871706  0.854177\n",
       "6            SVM_rbf       0.886963      0.889107   0.871706  0.854177"
      ]
     },
     "execution_count": 26,
     "metadata": {},
     "output_type": "execute_result"
    }
   ],
   "source": [
    "# SVM with Linear, Radial and polynomial kernel\n",
    "from sklearn.svm import SVR\n",
    "\n",
    "##Radial\n",
    "#Tuning ridge on new dataset\n",
    "param_grid = {'C':[0.001, 0.01, 0.1, 0.5, 1, 10, 50, 100, 1000], 'gamma':[0.001, 0.01, 0.1, 0.5, 1, 10],'epsilon' :  [0.01, 0.1, 0.5, 1] }\n",
    "\n",
    "svr_rbf = SVR(kernel='rbf')\n",
    "\n",
    "grid_search = GridSearchCV(svr_linear, param_grid, cv=5)\n",
    "grid_search.fit(X_train, y_train)\n",
    "\n",
    "print('Best parameters for radial kernel SVM {}'.format(grid_search.best_params_))\n",
    "\n",
    "train_Rsquare = grid_search.score(X_train, y_train)\n",
    "test_Rsquare = grid_search.score(X_test, y_test)\n",
    "train_MSE = mean_squared_error(y_train, grid_search.predict(X_train))\n",
    "test_MSE = mean_squared_error(y_test, grid_search.predict(X_test))\n",
    "\n",
    "model_results = model_results.append(pd.Series({'model':'SVM_rbf','train_Rsquare':train_Rsquare, 'test_Rsquare':test_Rsquare, 'train_MSE':train_MSE,'test_MSE':test_MSE}),ignore_index=True )\n",
    "model_results"
   ]
  },
  {
   "cell_type": "code",
   "execution_count": 27,
   "metadata": {},
   "outputs": [
    {
     "name": "stdout",
     "output_type": "stream",
     "text": [
      "Best parameters for 2nd degree polynomial kernel SVM {'C': 1000, 'epsilon': 0.5, 'gamma': 0.001}\n"
     ]
    },
    {
     "data": {
      "text/html": [
       "<div>\n",
       "<style>\n",
       "    .dataframe thead tr:only-child th {\n",
       "        text-align: right;\n",
       "    }\n",
       "\n",
       "    .dataframe thead th {\n",
       "        text-align: left;\n",
       "    }\n",
       "\n",
       "    .dataframe tbody tr th {\n",
       "        vertical-align: top;\n",
       "    }\n",
       "</style>\n",
       "<table border=\"1\" class=\"dataframe\">\n",
       "  <thead>\n",
       "    <tr style=\"text-align: right;\">\n",
       "      <th></th>\n",
       "      <th>model</th>\n",
       "      <th>train_Rsquare</th>\n",
       "      <th>test_Rsquare</th>\n",
       "      <th>train_MSE</th>\n",
       "      <th>test_MSE</th>\n",
       "    </tr>\n",
       "  </thead>\n",
       "  <tbody>\n",
       "    <tr>\n",
       "      <th>0</th>\n",
       "      <td>LinrearRegression</td>\n",
       "      <td>0.891655</td>\n",
       "      <td>0.894821</td>\n",
       "      <td>0.835524</td>\n",
       "      <td>0.810163</td>\n",
       "    </tr>\n",
       "    <tr>\n",
       "      <th>1</th>\n",
       "      <td>Ridge</td>\n",
       "      <td>0.891629</td>\n",
       "      <td>0.894849</td>\n",
       "      <td>0.835724</td>\n",
       "      <td>0.809946</td>\n",
       "    </tr>\n",
       "    <tr>\n",
       "      <th>2</th>\n",
       "      <td>Lasso</td>\n",
       "      <td>0.875295</td>\n",
       "      <td>0.877676</td>\n",
       "      <td>0.961690</td>\n",
       "      <td>0.942224</td>\n",
       "    </tr>\n",
       "    <tr>\n",
       "      <th>3</th>\n",
       "      <td>Poly_2_Ridge</td>\n",
       "      <td>0.973636</td>\n",
       "      <td>0.975644</td>\n",
       "      <td>0.203314</td>\n",
       "      <td>0.187608</td>\n",
       "    </tr>\n",
       "    <tr>\n",
       "      <th>4</th>\n",
       "      <td>Knn</td>\n",
       "      <td>1.000000</td>\n",
       "      <td>0.987820</td>\n",
       "      <td>0.000000</td>\n",
       "      <td>0.093823</td>\n",
       "    </tr>\n",
       "    <tr>\n",
       "      <th>5</th>\n",
       "      <td>LinearSVM</td>\n",
       "      <td>0.886963</td>\n",
       "      <td>0.889107</td>\n",
       "      <td>0.871706</td>\n",
       "      <td>0.854177</td>\n",
       "    </tr>\n",
       "    <tr>\n",
       "      <th>6</th>\n",
       "      <td>SVM_rbf</td>\n",
       "      <td>0.886963</td>\n",
       "      <td>0.889107</td>\n",
       "      <td>0.871706</td>\n",
       "      <td>0.854177</td>\n",
       "    </tr>\n",
       "    <tr>\n",
       "      <th>7</th>\n",
       "      <td>SVR_sigmoid</td>\n",
       "      <td>0.886962</td>\n",
       "      <td>0.889108</td>\n",
       "      <td>0.871713</td>\n",
       "      <td>0.854168</td>\n",
       "    </tr>\n",
       "  </tbody>\n",
       "</table>\n",
       "</div>"
      ],
      "text/plain": [
       "               model  train_Rsquare  test_Rsquare  train_MSE  test_MSE\n",
       "0  LinrearRegression       0.891655      0.894821   0.835524  0.810163\n",
       "1              Ridge       0.891629      0.894849   0.835724  0.809946\n",
       "2              Lasso       0.875295      0.877676   0.961690  0.942224\n",
       "3       Poly_2_Ridge       0.973636      0.975644   0.203314  0.187608\n",
       "4                Knn       1.000000      0.987820   0.000000  0.093823\n",
       "5          LinearSVM       0.886963      0.889107   0.871706  0.854177\n",
       "6            SVM_rbf       0.886963      0.889107   0.871706  0.854177\n",
       "7        SVR_sigmoid       0.886962      0.889108   0.871713  0.854168"
      ]
     },
     "execution_count": 27,
     "metadata": {},
     "output_type": "execute_result"
    }
   ],
   "source": [
    "# Sigmoid \n",
    "\n",
    "#Tuning ridge on new dataset\n",
    "param_grid = {'C':[0.001, 0.01, 0.1, 0.5, 1, 10, 50, 100, 1000], 'gamma':[0.001, 0.01, 0.1, 0.5, 1, 10] , 'epsilon' : [0.01, 0.1, 0.5, 1]}\n",
    "\n",
    "svr_sig = SVR(kernel='sigmoid', degree = 2)\n",
    "\n",
    "grid_search = GridSearchCV(svr_sig, param_grid, cv=5)\n",
    "grid_search.fit(X_train, y_train)\n",
    "\n",
    "print('Best parameters for 2nd degree polynomial kernel SVM {}'.format(grid_search.best_params_))\n",
    "\n",
    "train_Rsquare = grid_search.score(X_train, y_train)\n",
    "test_Rsquare = grid_search.score(X_test, y_test)\n",
    "train_MSE = mean_squared_error(y_train, grid_search.predict(X_train))\n",
    "test_MSE = mean_squared_error(y_test, grid_search.predict(X_test))\n",
    "\n",
    "model_results = model_results.append(pd.Series({'model':'SVR_sigmoid','train_Rsquare':train_Rsquare, 'test_Rsquare':test_Rsquare, 'train_MSE':train_MSE,'test_MSE':test_MSE}),ignore_index=True )\n",
    "model_results"
   ]
  },
  {
   "cell_type": "markdown",
   "metadata": {},
   "source": [
    "As expected, Radial Kernel outperformed all other algortihms (exclusing K-nn ofcourse)"
   ]
  },
  {
   "cell_type": "code",
   "execution_count": 28,
   "metadata": {},
   "outputs": [
    {
     "name": "stdout",
     "output_type": "stream",
     "text": [
      "Best parameters for Decision Trees {'max_depth': 10, 'max_features': None}\n"
     ]
    },
    {
     "data": {
      "text/html": [
       "<div>\n",
       "<style>\n",
       "    .dataframe thead tr:only-child th {\n",
       "        text-align: right;\n",
       "    }\n",
       "\n",
       "    .dataframe thead th {\n",
       "        text-align: left;\n",
       "    }\n",
       "\n",
       "    .dataframe tbody tr th {\n",
       "        vertical-align: top;\n",
       "    }\n",
       "</style>\n",
       "<table border=\"1\" class=\"dataframe\">\n",
       "  <thead>\n",
       "    <tr style=\"text-align: right;\">\n",
       "      <th></th>\n",
       "      <th>model</th>\n",
       "      <th>train_Rsquare</th>\n",
       "      <th>test_Rsquare</th>\n",
       "      <th>train_MSE</th>\n",
       "      <th>test_MSE</th>\n",
       "    </tr>\n",
       "  </thead>\n",
       "  <tbody>\n",
       "    <tr>\n",
       "      <th>0</th>\n",
       "      <td>LinrearRegression</td>\n",
       "      <td>0.891655</td>\n",
       "      <td>0.894821</td>\n",
       "      <td>0.835524</td>\n",
       "      <td>0.810163</td>\n",
       "    </tr>\n",
       "    <tr>\n",
       "      <th>1</th>\n",
       "      <td>Ridge</td>\n",
       "      <td>0.891629</td>\n",
       "      <td>0.894849</td>\n",
       "      <td>0.835724</td>\n",
       "      <td>0.809946</td>\n",
       "    </tr>\n",
       "    <tr>\n",
       "      <th>2</th>\n",
       "      <td>Lasso</td>\n",
       "      <td>0.875295</td>\n",
       "      <td>0.877676</td>\n",
       "      <td>0.961690</td>\n",
       "      <td>0.942224</td>\n",
       "    </tr>\n",
       "    <tr>\n",
       "      <th>3</th>\n",
       "      <td>Poly_2_Ridge</td>\n",
       "      <td>0.973636</td>\n",
       "      <td>0.975644</td>\n",
       "      <td>0.203314</td>\n",
       "      <td>0.187608</td>\n",
       "    </tr>\n",
       "    <tr>\n",
       "      <th>4</th>\n",
       "      <td>Knn</td>\n",
       "      <td>1.000000</td>\n",
       "      <td>0.987820</td>\n",
       "      <td>0.000000</td>\n",
       "      <td>0.093823</td>\n",
       "    </tr>\n",
       "    <tr>\n",
       "      <th>5</th>\n",
       "      <td>LinearSVM</td>\n",
       "      <td>0.886963</td>\n",
       "      <td>0.889107</td>\n",
       "      <td>0.871706</td>\n",
       "      <td>0.854177</td>\n",
       "    </tr>\n",
       "    <tr>\n",
       "      <th>6</th>\n",
       "      <td>SVM_rbf</td>\n",
       "      <td>0.886963</td>\n",
       "      <td>0.889107</td>\n",
       "      <td>0.871706</td>\n",
       "      <td>0.854177</td>\n",
       "    </tr>\n",
       "    <tr>\n",
       "      <th>7</th>\n",
       "      <td>SVR_sigmoid</td>\n",
       "      <td>0.886962</td>\n",
       "      <td>0.889108</td>\n",
       "      <td>0.871713</td>\n",
       "      <td>0.854168</td>\n",
       "    </tr>\n",
       "    <tr>\n",
       "      <th>8</th>\n",
       "      <td>Decision_Tree</td>\n",
       "      <td>0.999667</td>\n",
       "      <td>0.995525</td>\n",
       "      <td>0.002566</td>\n",
       "      <td>0.034473</td>\n",
       "    </tr>\n",
       "  </tbody>\n",
       "</table>\n",
       "</div>"
      ],
      "text/plain": [
       "               model  train_Rsquare  test_Rsquare  train_MSE  test_MSE\n",
       "0  LinrearRegression       0.891655      0.894821   0.835524  0.810163\n",
       "1              Ridge       0.891629      0.894849   0.835724  0.809946\n",
       "2              Lasso       0.875295      0.877676   0.961690  0.942224\n",
       "3       Poly_2_Ridge       0.973636      0.975644   0.203314  0.187608\n",
       "4                Knn       1.000000      0.987820   0.000000  0.093823\n",
       "5          LinearSVM       0.886963      0.889107   0.871706  0.854177\n",
       "6            SVM_rbf       0.886963      0.889107   0.871706  0.854177\n",
       "7        SVR_sigmoid       0.886962      0.889108   0.871713  0.854168\n",
       "8      Decision_Tree       0.999667      0.995525   0.002566  0.034473"
      ]
     },
     "execution_count": 28,
     "metadata": {},
     "output_type": "execute_result"
    }
   ],
   "source": [
    "from sklearn.tree import DecisionTreeRegressor\n",
    "\n",
    "#Tuning ridge on new dataset\n",
    "param_grid = {'max_features':[None,'auto', 'log2'], 'max_depth':[5,10,15,20,50]}\n",
    "\n",
    "dtc = DecisionTreeRegressor(random_state = 10)\n",
    "\n",
    "grid_search = GridSearchCV(dtc, param_grid, cv=5)\n",
    "grid_search.fit(X_train, y_train)\n",
    "\n",
    "print('Best parameters for Decision Trees {}'.format(grid_search.best_params_))\n",
    "\n",
    "train_Rsquare = grid_search.score(X_train, y_train)\n",
    "test_Rsquare = grid_search.score(X_test, y_test)\n",
    "train_MSE = mean_squared_error(y_train, grid_search.predict(X_train))\n",
    "test_MSE = mean_squared_error(y_test, grid_search.predict(X_test))\n",
    "\n",
    "model_results = model_results.append(pd.Series({'model':'Decision_Tree','train_Rsquare':train_Rsquare, 'test_Rsquare':test_Rsquare, 'train_MSE':train_MSE,'test_MSE':test_MSE}),ignore_index=True )\n",
    "model_results"
   ]
  },
  {
   "cell_type": "code",
   "execution_count": 29,
   "metadata": {},
   "outputs": [
    {
     "name": "stdout",
     "output_type": "stream",
     "text": [
      "Best parameters for Random Forest {'max_depth': 50, 'max_features': 'log2'}\n"
     ]
    },
    {
     "data": {
      "text/html": [
       "<div>\n",
       "<style>\n",
       "    .dataframe thead tr:only-child th {\n",
       "        text-align: right;\n",
       "    }\n",
       "\n",
       "    .dataframe thead th {\n",
       "        text-align: left;\n",
       "    }\n",
       "\n",
       "    .dataframe tbody tr th {\n",
       "        vertical-align: top;\n",
       "    }\n",
       "</style>\n",
       "<table border=\"1\" class=\"dataframe\">\n",
       "  <thead>\n",
       "    <tr style=\"text-align: right;\">\n",
       "      <th></th>\n",
       "      <th>model</th>\n",
       "      <th>train_Rsquare</th>\n",
       "      <th>test_Rsquare</th>\n",
       "      <th>train_MSE</th>\n",
       "      <th>test_MSE</th>\n",
       "    </tr>\n",
       "  </thead>\n",
       "  <tbody>\n",
       "    <tr>\n",
       "      <th>0</th>\n",
       "      <td>LinrearRegression</td>\n",
       "      <td>0.891655</td>\n",
       "      <td>0.894821</td>\n",
       "      <td>0.835524</td>\n",
       "      <td>0.810163</td>\n",
       "    </tr>\n",
       "    <tr>\n",
       "      <th>1</th>\n",
       "      <td>Ridge</td>\n",
       "      <td>0.891629</td>\n",
       "      <td>0.894849</td>\n",
       "      <td>0.835724</td>\n",
       "      <td>0.809946</td>\n",
       "    </tr>\n",
       "    <tr>\n",
       "      <th>2</th>\n",
       "      <td>Lasso</td>\n",
       "      <td>0.875295</td>\n",
       "      <td>0.877676</td>\n",
       "      <td>0.961690</td>\n",
       "      <td>0.942224</td>\n",
       "    </tr>\n",
       "    <tr>\n",
       "      <th>3</th>\n",
       "      <td>Poly_2_Ridge</td>\n",
       "      <td>0.973636</td>\n",
       "      <td>0.975644</td>\n",
       "      <td>0.203314</td>\n",
       "      <td>0.187608</td>\n",
       "    </tr>\n",
       "    <tr>\n",
       "      <th>4</th>\n",
       "      <td>Knn</td>\n",
       "      <td>1.000000</td>\n",
       "      <td>0.987820</td>\n",
       "      <td>0.000000</td>\n",
       "      <td>0.093823</td>\n",
       "    </tr>\n",
       "    <tr>\n",
       "      <th>5</th>\n",
       "      <td>LinearSVM</td>\n",
       "      <td>0.886963</td>\n",
       "      <td>0.889107</td>\n",
       "      <td>0.871706</td>\n",
       "      <td>0.854177</td>\n",
       "    </tr>\n",
       "    <tr>\n",
       "      <th>6</th>\n",
       "      <td>SVM_rbf</td>\n",
       "      <td>0.886963</td>\n",
       "      <td>0.889107</td>\n",
       "      <td>0.871706</td>\n",
       "      <td>0.854177</td>\n",
       "    </tr>\n",
       "    <tr>\n",
       "      <th>7</th>\n",
       "      <td>SVR_sigmoid</td>\n",
       "      <td>0.886962</td>\n",
       "      <td>0.889108</td>\n",
       "      <td>0.871713</td>\n",
       "      <td>0.854168</td>\n",
       "    </tr>\n",
       "    <tr>\n",
       "      <th>8</th>\n",
       "      <td>Decision_Tree</td>\n",
       "      <td>0.999667</td>\n",
       "      <td>0.995525</td>\n",
       "      <td>0.002566</td>\n",
       "      <td>0.034473</td>\n",
       "    </tr>\n",
       "    <tr>\n",
       "      <th>9</th>\n",
       "      <td>Random_Forest</td>\n",
       "      <td>0.999735</td>\n",
       "      <td>0.998105</td>\n",
       "      <td>0.002042</td>\n",
       "      <td>0.014598</td>\n",
       "    </tr>\n",
       "  </tbody>\n",
       "</table>\n",
       "</div>"
      ],
      "text/plain": [
       "               model  train_Rsquare  test_Rsquare  train_MSE  test_MSE\n",
       "0  LinrearRegression       0.891655      0.894821   0.835524  0.810163\n",
       "1              Ridge       0.891629      0.894849   0.835724  0.809946\n",
       "2              Lasso       0.875295      0.877676   0.961690  0.942224\n",
       "3       Poly_2_Ridge       0.973636      0.975644   0.203314  0.187608\n",
       "4                Knn       1.000000      0.987820   0.000000  0.093823\n",
       "5          LinearSVM       0.886963      0.889107   0.871706  0.854177\n",
       "6            SVM_rbf       0.886963      0.889107   0.871706  0.854177\n",
       "7        SVR_sigmoid       0.886962      0.889108   0.871713  0.854168\n",
       "8      Decision_Tree       0.999667      0.995525   0.002566  0.034473\n",
       "9      Random_Forest       0.999735      0.998105   0.002042  0.014598"
      ]
     },
     "execution_count": 29,
     "metadata": {},
     "output_type": "execute_result"
    }
   ],
   "source": [
    "from sklearn.ensemble import RandomForestRegressor\n",
    "\n",
    "\n",
    "#Tuning ridge on new dataset\n",
    "param_grid = {'max_features':['auto', 'log2'], 'max_depth':[5,10,15,20,50]}\n",
    "\n",
    "rf_reg = RandomForestRegressor(n_estimators= 500, n_jobs = -1, random_state = 10)\n",
    "\n",
    "grid_search = GridSearchCV(rf_reg, param_grid, cv=5)\n",
    "grid_search.fit(X_train, y_train)\n",
    "\n",
    "print('Best parameters for Random Forest {}'.format(grid_search.best_params_))\n",
    "\n",
    "train_Rsquare = grid_search.score(X_train, y_train)\n",
    "test_Rsquare = grid_search.score(X_test, y_test)\n",
    "train_MSE = mean_squared_error(y_train, grid_search.predict(X_train))\n",
    "test_MSE = mean_squared_error(y_test, grid_search.predict(X_test))\n",
    "\n",
    "model_results = model_results.append(pd.Series({'model':'Random_Forest','train_Rsquare':train_Rsquare, 'test_Rsquare':test_Rsquare, 'train_MSE':train_MSE,'test_MSE':test_MSE}),ignore_index=True )\n",
    "model_results"
   ]
  },
  {
   "cell_type": "code",
   "execution_count": 30,
   "metadata": {},
   "outputs": [
    {
     "name": "stdout",
     "output_type": "stream",
     "text": [
      "Best parameters for AdaBooster with Decision Tree base {'learning_rate': 1, 'loss': 'linear'}\n"
     ]
    },
    {
     "data": {
      "text/html": [
       "<div>\n",
       "<style>\n",
       "    .dataframe thead tr:only-child th {\n",
       "        text-align: right;\n",
       "    }\n",
       "\n",
       "    .dataframe thead th {\n",
       "        text-align: left;\n",
       "    }\n",
       "\n",
       "    .dataframe tbody tr th {\n",
       "        vertical-align: top;\n",
       "    }\n",
       "</style>\n",
       "<table border=\"1\" class=\"dataframe\">\n",
       "  <thead>\n",
       "    <tr style=\"text-align: right;\">\n",
       "      <th></th>\n",
       "      <th>model</th>\n",
       "      <th>train_Rsquare</th>\n",
       "      <th>test_Rsquare</th>\n",
       "      <th>train_MSE</th>\n",
       "      <th>test_MSE</th>\n",
       "    </tr>\n",
       "  </thead>\n",
       "  <tbody>\n",
       "    <tr>\n",
       "      <th>0</th>\n",
       "      <td>LinrearRegression</td>\n",
       "      <td>0.891655</td>\n",
       "      <td>0.894821</td>\n",
       "      <td>0.835524</td>\n",
       "      <td>0.810163</td>\n",
       "    </tr>\n",
       "    <tr>\n",
       "      <th>1</th>\n",
       "      <td>Ridge</td>\n",
       "      <td>0.891629</td>\n",
       "      <td>0.894849</td>\n",
       "      <td>0.835724</td>\n",
       "      <td>0.809946</td>\n",
       "    </tr>\n",
       "    <tr>\n",
       "      <th>2</th>\n",
       "      <td>Lasso</td>\n",
       "      <td>0.875295</td>\n",
       "      <td>0.877676</td>\n",
       "      <td>0.961690</td>\n",
       "      <td>0.942224</td>\n",
       "    </tr>\n",
       "    <tr>\n",
       "      <th>3</th>\n",
       "      <td>Poly_2_Ridge</td>\n",
       "      <td>0.973636</td>\n",
       "      <td>0.975644</td>\n",
       "      <td>0.203314</td>\n",
       "      <td>0.187608</td>\n",
       "    </tr>\n",
       "    <tr>\n",
       "      <th>4</th>\n",
       "      <td>Knn</td>\n",
       "      <td>1.000000</td>\n",
       "      <td>0.987820</td>\n",
       "      <td>0.000000</td>\n",
       "      <td>0.093823</td>\n",
       "    </tr>\n",
       "    <tr>\n",
       "      <th>5</th>\n",
       "      <td>LinearSVM</td>\n",
       "      <td>0.886963</td>\n",
       "      <td>0.889107</td>\n",
       "      <td>0.871706</td>\n",
       "      <td>0.854177</td>\n",
       "    </tr>\n",
       "    <tr>\n",
       "      <th>6</th>\n",
       "      <td>SVM_rbf</td>\n",
       "      <td>0.886963</td>\n",
       "      <td>0.889107</td>\n",
       "      <td>0.871706</td>\n",
       "      <td>0.854177</td>\n",
       "    </tr>\n",
       "    <tr>\n",
       "      <th>7</th>\n",
       "      <td>SVR_sigmoid</td>\n",
       "      <td>0.886962</td>\n",
       "      <td>0.889108</td>\n",
       "      <td>0.871713</td>\n",
       "      <td>0.854168</td>\n",
       "    </tr>\n",
       "    <tr>\n",
       "      <th>8</th>\n",
       "      <td>Decision_Tree</td>\n",
       "      <td>0.999667</td>\n",
       "      <td>0.995525</td>\n",
       "      <td>0.002566</td>\n",
       "      <td>0.034473</td>\n",
       "    </tr>\n",
       "    <tr>\n",
       "      <th>9</th>\n",
       "      <td>Random_Forest</td>\n",
       "      <td>0.999735</td>\n",
       "      <td>0.998105</td>\n",
       "      <td>0.002042</td>\n",
       "      <td>0.014598</td>\n",
       "    </tr>\n",
       "    <tr>\n",
       "      <th>10</th>\n",
       "      <td>AdaBoost</td>\n",
       "      <td>0.999925</td>\n",
       "      <td>0.998825</td>\n",
       "      <td>0.000577</td>\n",
       "      <td>0.009050</td>\n",
       "    </tr>\n",
       "  </tbody>\n",
       "</table>\n",
       "</div>"
      ],
      "text/plain": [
       "                model  train_Rsquare  test_Rsquare  train_MSE  test_MSE\n",
       "0   LinrearRegression       0.891655      0.894821   0.835524  0.810163\n",
       "1               Ridge       0.891629      0.894849   0.835724  0.809946\n",
       "2               Lasso       0.875295      0.877676   0.961690  0.942224\n",
       "3        Poly_2_Ridge       0.973636      0.975644   0.203314  0.187608\n",
       "4                 Knn       1.000000      0.987820   0.000000  0.093823\n",
       "5           LinearSVM       0.886963      0.889107   0.871706  0.854177\n",
       "6             SVM_rbf       0.886963      0.889107   0.871706  0.854177\n",
       "7         SVR_sigmoid       0.886962      0.889108   0.871713  0.854168\n",
       "8       Decision_Tree       0.999667      0.995525   0.002566  0.034473\n",
       "9       Random_Forest       0.999735      0.998105   0.002042  0.014598\n",
       "10           AdaBoost       0.999925      0.998825   0.000577  0.009050"
      ]
     },
     "execution_count": 30,
     "metadata": {},
     "output_type": "execute_result"
    }
   ],
   "source": [
    "# Adaboost\n",
    "\n",
    "from sklearn.ensemble import AdaBoostRegressor\n",
    "\n",
    "\n",
    "#Tuning ridge on new dataset\n",
    "param_grid = {'learning_rate':[0.01, 0.1, 0.5,1], 'loss':['linear','square','exponential']}\n",
    "\n",
    "ada_reg = AdaBoostRegressor(DecisionTreeRegressor(max_depth=10), n_estimators= 500)\n",
    "\n",
    "grid_search = GridSearchCV(ada_reg, param_grid, cv=5)\n",
    "grid_search.fit(X_train, y_train)\n",
    "\n",
    "print('Best parameters for AdaBooster with Decision Tree base {}'.format(grid_search.best_params_))\n",
    "\n",
    "train_Rsquare = grid_search.score(X_train, y_train)\n",
    "test_Rsquare = grid_search.score(X_test, y_test)\n",
    "train_MSE = mean_squared_error(y_train, grid_search.predict(X_train))\n",
    "test_MSE = mean_squared_error(y_test, grid_search.predict(X_test))\n",
    "\n",
    "model_results = model_results.append(pd.Series({'model':'AdaBoost','train_Rsquare':train_Rsquare, 'test_Rsquare':test_Rsquare, 'train_MSE':train_MSE,'test_MSE':test_MSE}),ignore_index=True )\n",
    "model_results"
   ]
  },
  {
   "cell_type": "markdown",
   "metadata": {},
   "source": [
    "### Learning curves"
   ]
  },
  {
   "cell_type": "code",
   "execution_count": 31,
   "metadata": {},
   "outputs": [
    {
     "data": {
      "text/plain": [
       "Text(0.5,1,'Train and Test MSE for each model')"
      ]
     },
     "execution_count": 31,
     "metadata": {},
     "output_type": "execute_result"
    },
    {
     "data": {
      "image/png": "[encoded data removed]",
      "text/plain": [
       "<matplotlib.figure.Figure at 0x2079414b128>"
      ]
     },
     "metadata": {},
     "output_type": "display_data"
    }
   ],
   "source": [
    "cols = ['model','train_MSE','test_MSE']\n",
    "model_results[cols].set_index('model').plot(kind = 'bar');\n",
    "plt.title('Train and Test MSE for each model')\n",
    "#"
   ]
  },
  {
   "cell_type": "code",
   "execution_count": 32,
   "metadata": {},
   "outputs": [
    {
     "data": {
      "text/plain": [
       "Text(0.5,1,'Model R square for each model')"
      ]
     },
     "execution_count": 32,
     "metadata": {},
     "output_type": "execute_result"
    },
    {
     "data": {
      "image/png": "[encoded data removed]",
      "text/plain": [
       "<matplotlib.figure.Figure at 0x20793b9f278>"
      ]
     },
     "metadata": {},
     "output_type": "display_data"
    }
   ],
   "source": [
    "cols = ['model','train_Rsquare']\n",
    "model_results[cols].set_index('model').plot(kind = 'bar');\n",
    "plt.title('Model R square for each model')\n",
    "#"
   ]
  },
  {
   "cell_type": "markdown",
   "metadata": {},
   "source": [
    "#### Model results\n",
    "1. The improved performance in Lasso when adding polynomial regression indicates the non-linear nature of the prediction boundries\n",
    "2. Ensemble models outperformed Linear and SVM models in general with nearly 10% higher R square\n",
    "3. AdaBoost with Decision Trees and Random Forest are perfomrning best with 99.8% R square and ~0.02 mean squared error.\n",
    "4. Knn is overfitting because of sampling scheme and we decided to ignore the results\n",
    "\n",
    "#### Evidence of possible overfitting\n",
    " - If we obeserve the best parameters of algorithsm like Random Forest - max_depth = 50, indicates the best results are developed with overgrown trees and with the train-test split method the models might perform significantly different based on samples\n",
    " - Testing this with cross validation on complete datasets\n"
   ]
  },
  {
   "cell_type": "markdown",
   "metadata": {},
   "source": [
    " "
   ]
  },
  {
   "cell_type": "markdown",
   "metadata": {
    "collapsed": true
   },
   "source": [
    "#### Cross validation on Adboost and Random Forest with best parameters from GridSearchCV"
   ]
  },
  {
   "cell_type": "code",
   "execution_count": 33,
   "metadata": {
    "collapsed": true
   },
   "outputs": [],
   "source": [
    "from sklearn.model_selection import cross_val_score"
   ]
  },
  {
   "cell_type": "code",
   "execution_count": 34,
   "metadata": {},
   "outputs": [
    {
     "data": {
      "text/plain": [
       "array([-4.36590008, -2.16417017, -0.90120976, -0.06455436, -1.9842097 ])"
      ]
     },
     "execution_count": 34,
     "metadata": {},
     "output_type": "execute_result"
    }
   ],
   "source": [
    "# Training on complete dataset and calculating 5-fold cross validation\n",
    "\n",
    "adBoost = AdaBoostRegressor(DecisionTreeRegressor(max_depth=10), learning_rate =0.1, loss = 'linear', n_estimators= 500)\n",
    "ada_scores = cross_val_score(adBoost, X, y, cv=5, scoring= 'neg_mean_squared_error')\n",
    "ada_scores"
   ]
  },
  {
   "cell_type": "code",
   "execution_count": 35,
   "metadata": {},
   "outputs": [
    {
     "data": {
      "image/png": "[encoded data removed]",
      "text/plain": [
       "<matplotlib.figure.Figure at 0x20791560128>"
      ]
     },
     "metadata": {},
     "output_type": "display_data"
    }
   ],
   "source": [
    "pd.Series(np.abs(ada_scores)).plot(kind='bar')\n",
    "plt.title('Mean Squared Error across folds for Ada Boost')\n",
    "plt.xlabel('Fold Number')\n",
    "plt.ylabel('Mean Sqaured Error');"
   ]
  },
  {
   "cell_type": "code",
   "execution_count": 36,
   "metadata": {},
   "outputs": [
    {
     "data": {
      "text/plain": [
       "array([-4.37691893, -0.83095722, -1.0442799 , -0.04263804, -2.28693489])"
      ]
     },
     "execution_count": 36,
     "metadata": {},
     "output_type": "execute_result"
    }
   ],
   "source": [
    "# Training on complete dataset and calculating 5-fold cross validation\n",
    "\n",
    "rf_reg = RandomForestRegressor(max_depth =50, max_features = 'auto', n_jobs=-1, n_estimators= 500)\n",
    "rf_scores = cross_val_score(rf_reg, X, y, cv=5, scoring= 'neg_mean_squared_error')\n",
    "rf_scores"
   ]
  },
  {
   "cell_type": "code",
   "execution_count": 37,
   "metadata": {},
   "outputs": [
    {
     "data": {
      "image/png": "[encoded data removed]",
      "text/plain": [
       "<matplotlib.figure.Figure at 0x207916c0d30>"
      ]
     },
     "metadata": {},
     "output_type": "display_data"
    }
   ],
   "source": [
    "pd.Series(np.abs(rf_scores)).plot(kind='bar')\n",
    "plt.title('Mean Squared Error across folds for Ada Boost')\n",
    "plt.xlabel('Fold Number')\n",
    "plt.ylabel('Mean Sqaured Error');"
   ]
  },
  {
   "cell_type": "markdown",
   "metadata": {},
   "source": [
    "There is a significant variation in performance across folds, which shows the overfitting issue is not completely solved even with best paramters."
   ]
  },
  {
   "cell_type": "markdown",
   "metadata": {},
   "source": [
    " "
   ]
  },
  {
   "cell_type": "markdown",
   "metadata": {},
   "source": [
    "#### We will use Random Forest as a final model as it has little more stable performance than Ada boost. But use lower max_depth in order to avoid overfitting"
   ]
  },
  {
   "cell_type": "code",
   "execution_count": 38,
   "metadata": {
    "collapsed": true
   },
   "outputs": [],
   "source": [
    "#Predictions on prduction data set\n",
    "\n",
    "ref_final =  RandomForestRegressor(max_depth =10,max_features = 'auto', n_jobs=-1, n_estimators= 500)\n",
    "ref_final.fit(X, y)\n",
    "\n",
    "predicted_feb = ref_final.predict(X_prod)\n",
    "#redicted_feb = np.exp(predicted_feb)"
   ]
  },
  {
   "cell_type": "code",
   "execution_count": 39,
   "metadata": {},
   "outputs": [
    {
     "data": {
      "text/plain": [
       "array([0.99559649, 0.99527844, 0.99444664, 0.99444664, 0.99559649,\n",
       "       0.99559649, 0.99444664, 0.97933354, 0.99467171, 0.99444664,\n",
       "       0.99444664, 0.99444664, 0.99444664, 0.99444664])"
      ]
     },
     "execution_count": 39,
     "metadata": {},
     "output_type": "execute_result"
    }
   ],
   "source": [
    "predicted_feb"
   ]
  },
  {
   "cell_type": "code",
   "execution_count": 43,
   "metadata": {
    "scrolled": true
   },
   "outputs": [
    {
     "data": {
      "image/png": "[encoded data removed]",
      "text/plain": [
       "<matplotlib.figure.Figure at 0x20793dffa20>"
      ]
     },
     "metadata": {},
     "output_type": "display_data"
    }
   ],
   "source": [
    "#Plotting final predicted values\n",
    "pd.Series(np.exp(predicted_feb)).plot()\n",
    "plt.xlabel('Day in test data set')\n",
    "plt.ylabel('Bitcoin price in dollars($)')\n",
    "plt.title('Predicted bitcoin prices');"
   ]
  },
  {
   "cell_type": "markdown",
   "metadata": {},
   "source": [
    "#### The actual price of bitcoin is in thousand dollars while the best model is predicting price to be $3\n",
    "\n",
    "This is becasue of the prices are dependent on time and there is a singificant price increase since August 2017.\n",
    "\n",
    "The possible problem can be seen with model specific cross-validation where the test MSE is as high as 6 (in log transformation) but the average is as low as 0.8.\n",
    "\n",
    "The problem should be treated as time-series rather than plain regression."
   ]
  }
 ],
 "metadata": {
  "kernelspec": {
   "display_name": "Python 3",
   "language": "python",
   "name": "python3"
  },
  "language_info": {
   "codemirror_mode": {
    "name": "ipython",
    "version": 3
   },
   "file_extension": ".py",
   "mimetype": "text/x-python",
   "name": "python",
   "nbconvert_exporter": "python",
   "pygments_lexer": "ipython3",
   "version": "3.6.6"
  }
 },
 "nbformat": 4,
 "nbformat_minor": 2
}
